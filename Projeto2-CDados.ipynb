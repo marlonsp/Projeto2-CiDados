{
 "cells": [
  {
   "cell_type": "markdown",
   "metadata": {},
   "source": [
    "___\n",
    "# Projeto 2 - Ciência dos Dados\n",
    "___\n",
    "\n",
    "### Integrantes do grupo: \n",
    "- Fernanda de Oliveira Pereira, \n",
    "- Giovana Cassoni Andrade, \n",
    "- Giselle Vieira de Melo, \n",
    "- Guilherme dos Santos Martins e \n",
    "- Marlon Silva Pereira.\n",
    "\n"
   ]
  },
  {
   "cell_type": "markdown",
   "metadata": {},
   "source": [
    "<div id=\"indice\"></div>\n",
    "\n",
    "## Índice\n",
    "\n",
    "- [Contextualização](#contextualizacao)\n",
    "    - [Pergunta](#tema_pergunta)\n",
    "- [Minerando Dados e Características do Dataset](#dados)\n",
    "    - [Bibliotecas](#bibliotecas)\n",
    "    - [Sobre a Base de Dados](#sobre)\n",
    "    - [Mudanças à base de dados](#mudancas)\n",
    "    - [Base de Dados](#base_de_dados)\n",
    "    - [Clean up](#clean)\n",
    "    - [Análise Descritiva](#analise)\n",
    "    - [Conclusões da Análise Exploratória](#exploratoria)\n",
    "        - [Análise dos histogramas](#histogramas)\n",
    "        - [Análise dos gráficos de dispersão](#dispersao)\n",
    "- [Modelos de Predição](#modelos)\n",
    "    - [Regressão Múltipla](#modelo1)\n",
    "    - [Regression Tree](#modelo2)\n",
    "    - [Random Forest Regression](#modelo3)\n",
    "- [Processo e Estatísticas de Validação](#processo)\n",
    "    - [Regressão Múltipla](#multipla)\n",
    "    - [Regression Tree](#tree)\n",
    "    - [Random Forest Regression](#forest)\n",
    "    - [Análise de homocedasticidade](#homocedasticidade)\n",
    "- [Validação Cruzada](#validacao)\n",
    "- [Conclusão](#conclusao)\n",
    "    - [Interpretações do modelo](#interpretacao)\n",
    "    - [Melhorias reais para implementações futuras](#melhorias)\n",
    "        - [Base de dados](#melhoria_base)\n",
    "        - [Regularização](#regularizacao)\n",
    "        - [Outros modelos](#outros_modelos)\n",
    "- [Referências Bibliográficas](#referencias)"
   ]
  },
  {
   "cell_type": "markdown",
   "metadata": {},
   "source": [
    "<div id=\"contextualizacao\"></div>\n",
    "\n",
    "___\n",
    "### Contextualização \n",
    "O coronavírus, que chegou ao Brasil em 2020 e já deixou 160 mil mortes, possui sua vacina desde o começo de 2021, esta que influencia diretamente o número de casos no país. Diante disso, nós, alunos do Insper, tivemos a ideia de realizar uma análise preditiva visando mensurar, a partir de dados de vacinação, mortes e outras variáveis, quantos casos de infecção irão ocorrer em cada dia. Para tanto, nossa base de dados foi retirada do site <em><b>Our World in Data </b></em>, no qual o dataset contém várias informações relativas ao coronavírus no mundo. Fez-se necessário que filtrássemos as variáveis que seriam interessantes para nossa análise, são elas: total de casos, novos casos, total de mortes, novas mortes e total de vacinações, todas no Brasil, as quais explicaremos posteriormente. \n",
    "\n",
    "<center> <img src=\"imagens/covid1.jpg\" width=500> <center> \n",
    "<center> <em><i> imagem do covid19 disponível em: https://www.infomoney.com.br/minhas-financas/covid-19-o-que-se-sabe-ate-agora-da-variante-omicron/ </i></em> <center>"
   ]
  },
  {
   "cell_type": "markdown",
   "metadata": {},
   "source": [
    "Dessa forma, esse projeto tem o propósito de prever uma variável principal (Target) em função de demais outras variáveis (Features) que podem influenciar em seu comportamento."
   ]
  },
  {
   "cell_type": "markdown",
   "metadata": {},
   "source": [
    "<div id=\"tema_pergunta\"></div>\n",
    "\n",
    "### Pergunta:"
   ]
  },
  {
   "cell_type": "markdown",
   "metadata": {},
   "source": [
    "Dado o contexto do projeto, articulamos a seguinte pergunta para realização desse projeto: \n",
    "\n",
    "\n",
    "<center> <em><b> \" Como prever a situação futura de casos de covid-19 no Brasil, com base em dados da progressão da doença e da vacinação no país?\" </b></em> </center>\n",
    "\n",
    "\n",
    "\n",
    "Logo, através dessa pergunta, pretende-se prever uma informação numérica com o target como um dado quantitativo e, consequentemente, os procedimentos aplicados serão técnicas descritas em Regressão."
   ]
  },
  {
   "cell_type": "markdown",
   "metadata": {},
   "source": [
    "<div id=\"dados\"></div>\n",
    "\n",
    "___\n",
    "## Minerando Dados e Características do Dataset"
   ]
  },
  {
   "cell_type": "markdown",
   "metadata": {},
   "source": [
    "<div id=\"bibliotecas\"></div>\n",
    "\n",
    "### Bibliotecas"
   ]
  },
  {
   "cell_type": "markdown",
   "metadata": {},
   "source": [
    "O primeiro passo é importar todas as bibliotecas que serão utilizadas ao longo de todo o projeto."
   ]
  },
  {
   "cell_type": "code",
   "execution_count": 22,
   "metadata": {},
   "outputs": [],
   "source": [
    "%matplotlib inline\n",
    "import pandas as pd\n",
    "import matplotlib.pyplot as plt\n",
    "import numpy as np\n",
    "import os\n",
    "import seaborn as sns\n",
    "import statsmodels.api as sm\n",
    "from scipy.stats import norm, probplot\n",
    "from sklearn.model_selection import train_test_split\n",
    "from sklearn.ensemble import RandomForestRegressor\n",
    "from sklearn.tree import DecisionTreeRegressor\n",
    "from sklearn.metrics import mean_squared_error\n",
    "from sklearn.metrics import r2_score"
   ]
  },
  {
   "cell_type": "markdown",
   "id": "f1e841d9",
   "metadata": {},
   "source": [
    "<div id=\"sobre\"></div>\n",
    "\n",
    "### Sobre a Base de Dados"
   ]
  },
  {
   "cell_type": "markdown",
   "metadata": {},
   "source": [
    "A base de dados original utilizada para o projeto é um dataset criado pela equipe Our World in Data que é atualizada durante a pandemia do covid-19, desde o seu início, na data de 26/02/2020, até os dias de hoje, com dados colhidos de muitos países.\n",
    "\n",
    "As informações originais contidas no dataset encontram-se todas explicadas em detalhes aprofundados em [Data on COVID-19 (coronavirus) by Our World in Data](https://github.com/owid/covid-19-data/tree/master/public/data).\n",
    "\n",
    "Como já mencionado durante a contextualização, as variáveis da base de dados a serem utilizadas são:\n",
    "\n",
    "- <em><b> new_cases: </b></em> Essa variável é o target do projeto, e ele mostra os novos casos de Covid-19, esses dados são atualizados diariamente.\n",
    "- <em><b> total_cases: </b></em> Com essa feature vê-se o número total de casos confirmados acumulados no país desde o início da pandemia.\n",
    "- <em><b> new_deaths: </b></em> Similar ao formato do target, essa feature revela as novas mortes atribuídas ao Covid-19, também sendo atualizados diariamente.\n",
    "- <em><b> total_deaths: </b></em> Essa feature, com a configuração como a do total de casos, mostra o número total de mortes confirmadas acumuladas no país desde o início da pandemia.\n",
    "- <em><b> total_vaccinations: </b></em> Esse total de vacinações sinaliza o número total de doses de vacina administradas desde o começo da distribuição da vacina."
   ]
  },
  {
   "cell_type": "markdown",
   "id": "62dec5b6",
   "metadata": {},
   "source": [
    "<div id=\"mudancas\"></div>\n",
    "\n",
    "### Mudanças à bade de dados"
   ]
  },
  {
   "cell_type": "markdown",
   "metadata": {},
   "source": [
    "A base de dados editada para ser usada no projeto contém apenas os dados referentes ao Brasil, uma vez que a pergunta é relativa à esse país. Outra edição é o período de tempo, com os dados indo desde 26/02/2020 até a data em que a base foi baixada, 16/11/2021.\n",
    "\n",
    "O dataset original não foi baixado para vizualização nesse relatório, uma vez que possui uma gigantesca quantidade de dados e pode deixar o carregamento do código muito devagar, porém se desejar acessar e analisar com maior minudência é só baixar o arquivo \"owid-covid-data.xlsx\"."
   ]
  },
  {
   "cell_type": "markdown",
   "metadata": {},
   "source": [
    "<div id=\"base_de_dados\"></div>\n",
    "\n",
    "### Base de Dados"
   ]
  },
  {
   "cell_type": "markdown",
   "metadata": {},
   "source": [
    "Em seguida, é armazenado o documento excel com a base dos dados que será usado em \"filename\" e acessado através da leitura do excel, guardado em \"data_base\"."
   ]
  },
  {
   "cell_type": "code",
   "execution_count": 23,
   "metadata": {},
   "outputs": [],
   "source": [
    "# Armazenando o nome do excel com os dados\n",
    "filename = 'covid-data-brazil.xlsx'"
   ]
  },
  {
   "cell_type": "code",
   "execution_count": 24,
   "metadata": {},
   "outputs": [
    {
     "data": {
      "text/html": [
       "<div>\n",
       "<style scoped>\n",
       "    .dataframe tbody tr th:only-of-type {\n",
       "        vertical-align: middle;\n",
       "    }\n",
       "\n",
       "    .dataframe tbody tr th {\n",
       "        vertical-align: top;\n",
       "    }\n",
       "\n",
       "    .dataframe thead th {\n",
       "        text-align: right;\n",
       "    }\n",
       "</style>\n",
       "<table border=\"1\" class=\"dataframe\">\n",
       "  <thead>\n",
       "    <tr style=\"text-align: right;\">\n",
       "      <th></th>\n",
       "      <th>iso_code</th>\n",
       "      <th>continent</th>\n",
       "      <th>location</th>\n",
       "      <th>date</th>\n",
       "      <th>total_cases</th>\n",
       "      <th>new_cases</th>\n",
       "      <th>new_cases_smoothed</th>\n",
       "      <th>total_deaths</th>\n",
       "      <th>new_deaths</th>\n",
       "      <th>new_deaths_smoothed</th>\n",
       "      <th>...</th>\n",
       "      <th>female_smokers</th>\n",
       "      <th>male_smokers</th>\n",
       "      <th>handwashing_facilities</th>\n",
       "      <th>hospital_beds_per_thousand</th>\n",
       "      <th>life_expectancy</th>\n",
       "      <th>human_development_index</th>\n",
       "      <th>excess_mortality_cumulative_absolute</th>\n",
       "      <th>excess_mortality_cumulative</th>\n",
       "      <th>excess_mortality</th>\n",
       "      <th>excess_mortality_cumulative_per_million</th>\n",
       "    </tr>\n",
       "  </thead>\n",
       "  <tbody>\n",
       "    <tr>\n",
       "      <th>0</th>\n",
       "      <td>BRA</td>\n",
       "      <td>South America</td>\n",
       "      <td>Brazil</td>\n",
       "      <td>2020-02-26</td>\n",
       "      <td>1</td>\n",
       "      <td>1.0</td>\n",
       "      <td>NaN</td>\n",
       "      <td>NaN</td>\n",
       "      <td>NaN</td>\n",
       "      <td>NaN</td>\n",
       "      <td>...</td>\n",
       "      <td>10.1</td>\n",
       "      <td>17.9</td>\n",
       "      <td>NaN</td>\n",
       "      <td>2.2</td>\n",
       "      <td>75.88</td>\n",
       "      <td>0.765</td>\n",
       "      <td>NaN</td>\n",
       "      <td>NaN</td>\n",
       "      <td>NaN</td>\n",
       "      <td>NaN</td>\n",
       "    </tr>\n",
       "    <tr>\n",
       "      <th>1</th>\n",
       "      <td>BRA</td>\n",
       "      <td>South America</td>\n",
       "      <td>Brazil</td>\n",
       "      <td>2020-02-27</td>\n",
       "      <td>1</td>\n",
       "      <td>0.0</td>\n",
       "      <td>NaN</td>\n",
       "      <td>NaN</td>\n",
       "      <td>NaN</td>\n",
       "      <td>NaN</td>\n",
       "      <td>...</td>\n",
       "      <td>10.1</td>\n",
       "      <td>17.9</td>\n",
       "      <td>NaN</td>\n",
       "      <td>2.2</td>\n",
       "      <td>75.88</td>\n",
       "      <td>0.765</td>\n",
       "      <td>NaN</td>\n",
       "      <td>NaN</td>\n",
       "      <td>NaN</td>\n",
       "      <td>NaN</td>\n",
       "    </tr>\n",
       "    <tr>\n",
       "      <th>2</th>\n",
       "      <td>BRA</td>\n",
       "      <td>South America</td>\n",
       "      <td>Brazil</td>\n",
       "      <td>2020-02-28</td>\n",
       "      <td>1</td>\n",
       "      <td>0.0</td>\n",
       "      <td>NaN</td>\n",
       "      <td>NaN</td>\n",
       "      <td>NaN</td>\n",
       "      <td>NaN</td>\n",
       "      <td>...</td>\n",
       "      <td>10.1</td>\n",
       "      <td>17.9</td>\n",
       "      <td>NaN</td>\n",
       "      <td>2.2</td>\n",
       "      <td>75.88</td>\n",
       "      <td>0.765</td>\n",
       "      <td>NaN</td>\n",
       "      <td>NaN</td>\n",
       "      <td>NaN</td>\n",
       "      <td>NaN</td>\n",
       "    </tr>\n",
       "    <tr>\n",
       "      <th>3</th>\n",
       "      <td>BRA</td>\n",
       "      <td>South America</td>\n",
       "      <td>Brazil</td>\n",
       "      <td>2020-02-29</td>\n",
       "      <td>2</td>\n",
       "      <td>1.0</td>\n",
       "      <td>NaN</td>\n",
       "      <td>NaN</td>\n",
       "      <td>NaN</td>\n",
       "      <td>NaN</td>\n",
       "      <td>...</td>\n",
       "      <td>10.1</td>\n",
       "      <td>17.9</td>\n",
       "      <td>NaN</td>\n",
       "      <td>2.2</td>\n",
       "      <td>75.88</td>\n",
       "      <td>0.765</td>\n",
       "      <td>7049.6</td>\n",
       "      <td>3.31</td>\n",
       "      <td>5.25</td>\n",
       "      <td>32.943066</td>\n",
       "    </tr>\n",
       "    <tr>\n",
       "      <th>4</th>\n",
       "      <td>BRA</td>\n",
       "      <td>South America</td>\n",
       "      <td>Brazil</td>\n",
       "      <td>2020-03-01</td>\n",
       "      <td>2</td>\n",
       "      <td>0.0</td>\n",
       "      <td>NaN</td>\n",
       "      <td>NaN</td>\n",
       "      <td>NaN</td>\n",
       "      <td>NaN</td>\n",
       "      <td>...</td>\n",
       "      <td>10.1</td>\n",
       "      <td>17.9</td>\n",
       "      <td>NaN</td>\n",
       "      <td>2.2</td>\n",
       "      <td>75.88</td>\n",
       "      <td>0.765</td>\n",
       "      <td>NaN</td>\n",
       "      <td>NaN</td>\n",
       "      <td>NaN</td>\n",
       "      <td>NaN</td>\n",
       "    </tr>\n",
       "    <tr>\n",
       "      <th>5</th>\n",
       "      <td>BRA</td>\n",
       "      <td>South America</td>\n",
       "      <td>Brazil</td>\n",
       "      <td>2020-03-02</td>\n",
       "      <td>2</td>\n",
       "      <td>0.0</td>\n",
       "      <td>0.286</td>\n",
       "      <td>NaN</td>\n",
       "      <td>NaN</td>\n",
       "      <td>0.0</td>\n",
       "      <td>...</td>\n",
       "      <td>10.1</td>\n",
       "      <td>17.9</td>\n",
       "      <td>NaN</td>\n",
       "      <td>2.2</td>\n",
       "      <td>75.88</td>\n",
       "      <td>0.765</td>\n",
       "      <td>NaN</td>\n",
       "      <td>NaN</td>\n",
       "      <td>NaN</td>\n",
       "      <td>NaN</td>\n",
       "    </tr>\n",
       "    <tr>\n",
       "      <th>6</th>\n",
       "      <td>BRA</td>\n",
       "      <td>South America</td>\n",
       "      <td>Brazil</td>\n",
       "      <td>2020-03-03</td>\n",
       "      <td>2</td>\n",
       "      <td>0.0</td>\n",
       "      <td>0.286</td>\n",
       "      <td>NaN</td>\n",
       "      <td>NaN</td>\n",
       "      <td>0.0</td>\n",
       "      <td>...</td>\n",
       "      <td>10.1</td>\n",
       "      <td>17.9</td>\n",
       "      <td>NaN</td>\n",
       "      <td>2.2</td>\n",
       "      <td>75.88</td>\n",
       "      <td>0.765</td>\n",
       "      <td>NaN</td>\n",
       "      <td>NaN</td>\n",
       "      <td>NaN</td>\n",
       "      <td>NaN</td>\n",
       "    </tr>\n",
       "    <tr>\n",
       "      <th>7</th>\n",
       "      <td>BRA</td>\n",
       "      <td>South America</td>\n",
       "      <td>Brazil</td>\n",
       "      <td>2020-03-04</td>\n",
       "      <td>4</td>\n",
       "      <td>2.0</td>\n",
       "      <td>0.429</td>\n",
       "      <td>NaN</td>\n",
       "      <td>NaN</td>\n",
       "      <td>0.0</td>\n",
       "      <td>...</td>\n",
       "      <td>10.1</td>\n",
       "      <td>17.9</td>\n",
       "      <td>NaN</td>\n",
       "      <td>2.2</td>\n",
       "      <td>75.88</td>\n",
       "      <td>0.765</td>\n",
       "      <td>NaN</td>\n",
       "      <td>NaN</td>\n",
       "      <td>NaN</td>\n",
       "      <td>NaN</td>\n",
       "    </tr>\n",
       "    <tr>\n",
       "      <th>8</th>\n",
       "      <td>BRA</td>\n",
       "      <td>South America</td>\n",
       "      <td>Brazil</td>\n",
       "      <td>2020-03-05</td>\n",
       "      <td>4</td>\n",
       "      <td>0.0</td>\n",
       "      <td>0.429</td>\n",
       "      <td>NaN</td>\n",
       "      <td>NaN</td>\n",
       "      <td>0.0</td>\n",
       "      <td>...</td>\n",
       "      <td>10.1</td>\n",
       "      <td>17.9</td>\n",
       "      <td>NaN</td>\n",
       "      <td>2.2</td>\n",
       "      <td>75.88</td>\n",
       "      <td>0.765</td>\n",
       "      <td>NaN</td>\n",
       "      <td>NaN</td>\n",
       "      <td>NaN</td>\n",
       "      <td>NaN</td>\n",
       "    </tr>\n",
       "    <tr>\n",
       "      <th>9</th>\n",
       "      <td>BRA</td>\n",
       "      <td>South America</td>\n",
       "      <td>Brazil</td>\n",
       "      <td>2020-03-06</td>\n",
       "      <td>13</td>\n",
       "      <td>9.0</td>\n",
       "      <td>1.714</td>\n",
       "      <td>NaN</td>\n",
       "      <td>NaN</td>\n",
       "      <td>0.0</td>\n",
       "      <td>...</td>\n",
       "      <td>10.1</td>\n",
       "      <td>17.9</td>\n",
       "      <td>NaN</td>\n",
       "      <td>2.2</td>\n",
       "      <td>75.88</td>\n",
       "      <td>0.765</td>\n",
       "      <td>NaN</td>\n",
       "      <td>NaN</td>\n",
       "      <td>NaN</td>\n",
       "      <td>NaN</td>\n",
       "    </tr>\n",
       "  </tbody>\n",
       "</table>\n",
       "<p>10 rows × 67 columns</p>\n",
       "</div>"
      ],
      "text/plain": [
       "  iso_code      continent location        date  total_cases  new_cases  \\\n",
       "0      BRA  South America   Brazil  2020-02-26            1        1.0   \n",
       "1      BRA  South America   Brazil  2020-02-27            1        0.0   \n",
       "2      BRA  South America   Brazil  2020-02-28            1        0.0   \n",
       "3      BRA  South America   Brazil  2020-02-29            2        1.0   \n",
       "4      BRA  South America   Brazil  2020-03-01            2        0.0   \n",
       "5      BRA  South America   Brazil  2020-03-02            2        0.0   \n",
       "6      BRA  South America   Brazil  2020-03-03            2        0.0   \n",
       "7      BRA  South America   Brazil  2020-03-04            4        2.0   \n",
       "8      BRA  South America   Brazil  2020-03-05            4        0.0   \n",
       "9      BRA  South America   Brazil  2020-03-06           13        9.0   \n",
       "\n",
       "   new_cases_smoothed  total_deaths  new_deaths  new_deaths_smoothed  ...  \\\n",
       "0                 NaN           NaN         NaN                  NaN  ...   \n",
       "1                 NaN           NaN         NaN                  NaN  ...   \n",
       "2                 NaN           NaN         NaN                  NaN  ...   \n",
       "3                 NaN           NaN         NaN                  NaN  ...   \n",
       "4                 NaN           NaN         NaN                  NaN  ...   \n",
       "5               0.286           NaN         NaN                  0.0  ...   \n",
       "6               0.286           NaN         NaN                  0.0  ...   \n",
       "7               0.429           NaN         NaN                  0.0  ...   \n",
       "8               0.429           NaN         NaN                  0.0  ...   \n",
       "9               1.714           NaN         NaN                  0.0  ...   \n",
       "\n",
       "   female_smokers  male_smokers  handwashing_facilities  \\\n",
       "0            10.1          17.9                     NaN   \n",
       "1            10.1          17.9                     NaN   \n",
       "2            10.1          17.9                     NaN   \n",
       "3            10.1          17.9                     NaN   \n",
       "4            10.1          17.9                     NaN   \n",
       "5            10.1          17.9                     NaN   \n",
       "6            10.1          17.9                     NaN   \n",
       "7            10.1          17.9                     NaN   \n",
       "8            10.1          17.9                     NaN   \n",
       "9            10.1          17.9                     NaN   \n",
       "\n",
       "   hospital_beds_per_thousand  life_expectancy  human_development_index  \\\n",
       "0                         2.2            75.88                    0.765   \n",
       "1                         2.2            75.88                    0.765   \n",
       "2                         2.2            75.88                    0.765   \n",
       "3                         2.2            75.88                    0.765   \n",
       "4                         2.2            75.88                    0.765   \n",
       "5                         2.2            75.88                    0.765   \n",
       "6                         2.2            75.88                    0.765   \n",
       "7                         2.2            75.88                    0.765   \n",
       "8                         2.2            75.88                    0.765   \n",
       "9                         2.2            75.88                    0.765   \n",
       "\n",
       "   excess_mortality_cumulative_absolute  excess_mortality_cumulative  \\\n",
       "0                                   NaN                          NaN   \n",
       "1                                   NaN                          NaN   \n",
       "2                                   NaN                          NaN   \n",
       "3                                7049.6                         3.31   \n",
       "4                                   NaN                          NaN   \n",
       "5                                   NaN                          NaN   \n",
       "6                                   NaN                          NaN   \n",
       "7                                   NaN                          NaN   \n",
       "8                                   NaN                          NaN   \n",
       "9                                   NaN                          NaN   \n",
       "\n",
       "   excess_mortality  excess_mortality_cumulative_per_million  \n",
       "0               NaN                                      NaN  \n",
       "1               NaN                                      NaN  \n",
       "2               NaN                                      NaN  \n",
       "3              5.25                                32.943066  \n",
       "4               NaN                                      NaN  \n",
       "5               NaN                                      NaN  \n",
       "6               NaN                                      NaN  \n",
       "7               NaN                                      NaN  \n",
       "8               NaN                                      NaN  \n",
       "9               NaN                                      NaN  \n",
       "\n",
       "[10 rows x 67 columns]"
      ]
     },
     "execution_count": 24,
     "metadata": {},
     "output_type": "execute_result"
    }
   ],
   "source": [
    "# Acessando a base de dados\n",
    "data_base = pd.read_excel(filename)\n",
    "data_base.head(10)"
   ]
  },
  {
   "cell_type": "markdown",
   "metadata": {},
   "source": [
    "<div id=\"clean\"></div>\n",
    "\n",
    "### Clean up"
   ]
  },
  {
   "cell_type": "markdown",
   "metadata": {},
   "source": [
    "Aqui será filtrada a base de dados, fornecendo apenas as colunas que influenciam no nosso target, excluindo as colunas que mostram informações constantes da população e do país, como o número de indivíduos com doenças crônicas e o IDH, e as colunas que não afetam nossa análise.\n",
    "\n",
    "Dessa forma, como nossa predição se baseia na ocorrência de novos casos a partir do total de vacinações e da progressão da doença no país, optamos por filtrar nossa base de dados com features que traduzirão diretamente a influência da vacina e das mortes sobre os novos casos. \n",
    "\n",
    "Com esses apontamentos, na base de dados será utilizada as colunas: \"total_cases\", \"total_deaths\", \"new_deaths\" e \"total_vaccinations\", além da coluna do target \"new_cases\"."
   ]
  },
  {
   "cell_type": "code",
   "execution_count": 25,
   "metadata": {},
   "outputs": [
    {
     "data": {
      "text/html": [
       "<div>\n",
       "<style scoped>\n",
       "    .dataframe tbody tr th:only-of-type {\n",
       "        vertical-align: middle;\n",
       "    }\n",
       "\n",
       "    .dataframe tbody tr th {\n",
       "        vertical-align: top;\n",
       "    }\n",
       "\n",
       "    .dataframe thead th {\n",
       "        text-align: right;\n",
       "    }\n",
       "</style>\n",
       "<table border=\"1\" class=\"dataframe\">\n",
       "  <thead>\n",
       "    <tr style=\"text-align: right;\">\n",
       "      <th></th>\n",
       "      <th>total_cases</th>\n",
       "      <th>new_cases</th>\n",
       "      <th>total_deaths</th>\n",
       "      <th>new_deaths</th>\n",
       "      <th>total_vaccinations</th>\n",
       "    </tr>\n",
       "  </thead>\n",
       "  <tbody>\n",
       "    <tr>\n",
       "      <th>0</th>\n",
       "      <td>1</td>\n",
       "      <td>1.0</td>\n",
       "      <td>NaN</td>\n",
       "      <td>NaN</td>\n",
       "      <td>NaN</td>\n",
       "    </tr>\n",
       "    <tr>\n",
       "      <th>1</th>\n",
       "      <td>1</td>\n",
       "      <td>0.0</td>\n",
       "      <td>NaN</td>\n",
       "      <td>NaN</td>\n",
       "      <td>NaN</td>\n",
       "    </tr>\n",
       "    <tr>\n",
       "      <th>2</th>\n",
       "      <td>1</td>\n",
       "      <td>0.0</td>\n",
       "      <td>NaN</td>\n",
       "      <td>NaN</td>\n",
       "      <td>NaN</td>\n",
       "    </tr>\n",
       "    <tr>\n",
       "      <th>3</th>\n",
       "      <td>2</td>\n",
       "      <td>1.0</td>\n",
       "      <td>NaN</td>\n",
       "      <td>NaN</td>\n",
       "      <td>NaN</td>\n",
       "    </tr>\n",
       "    <tr>\n",
       "      <th>4</th>\n",
       "      <td>2</td>\n",
       "      <td>0.0</td>\n",
       "      <td>NaN</td>\n",
       "      <td>NaN</td>\n",
       "      <td>NaN</td>\n",
       "    </tr>\n",
       "    <tr>\n",
       "      <th>...</th>\n",
       "      <td>...</td>\n",
       "      <td>...</td>\n",
       "      <td>...</td>\n",
       "      <td>...</td>\n",
       "      <td>...</td>\n",
       "    </tr>\n",
       "    <tr>\n",
       "      <th>625</th>\n",
       "      <td>21939196</td>\n",
       "      <td>14598.0</td>\n",
       "      <td>610491.0</td>\n",
       "      <td>267.0</td>\n",
       "      <td>294219326.0</td>\n",
       "    </tr>\n",
       "    <tr>\n",
       "      <th>626</th>\n",
       "      <td>21953838</td>\n",
       "      <td>14642.0</td>\n",
       "      <td>611222.0</td>\n",
       "      <td>731.0</td>\n",
       "      <td>NaN</td>\n",
       "    </tr>\n",
       "    <tr>\n",
       "      <th>627</th>\n",
       "      <td>21957967</td>\n",
       "      <td>4129.0</td>\n",
       "      <td>611283.0</td>\n",
       "      <td>61.0</td>\n",
       "      <td>296865258.0</td>\n",
       "    </tr>\n",
       "    <tr>\n",
       "      <th>628</th>\n",
       "      <td>21960766</td>\n",
       "      <td>2799.0</td>\n",
       "      <td>611346.0</td>\n",
       "      <td>63.0</td>\n",
       "      <td>NaN</td>\n",
       "    </tr>\n",
       "    <tr>\n",
       "      <th>629</th>\n",
       "      <td>21965684</td>\n",
       "      <td>4918.0</td>\n",
       "      <td>611478.0</td>\n",
       "      <td>132.0</td>\n",
       "      <td>297103960.0</td>\n",
       "    </tr>\n",
       "  </tbody>\n",
       "</table>\n",
       "<p>630 rows × 5 columns</p>\n",
       "</div>"
      ],
      "text/plain": [
       "     total_cases  new_cases  total_deaths  new_deaths  total_vaccinations\n",
       "0              1        1.0           NaN         NaN                 NaN\n",
       "1              1        0.0           NaN         NaN                 NaN\n",
       "2              1        0.0           NaN         NaN                 NaN\n",
       "3              2        1.0           NaN         NaN                 NaN\n",
       "4              2        0.0           NaN         NaN                 NaN\n",
       "..           ...        ...           ...         ...                 ...\n",
       "625     21939196    14598.0      610491.0       267.0         294219326.0\n",
       "626     21953838    14642.0      611222.0       731.0                 NaN\n",
       "627     21957967     4129.0      611283.0        61.0         296865258.0\n",
       "628     21960766     2799.0      611346.0        63.0                 NaN\n",
       "629     21965684     4918.0      611478.0       132.0         297103960.0\n",
       "\n",
       "[630 rows x 5 columns]"
      ]
     },
     "execution_count": 25,
     "metadata": {},
     "output_type": "execute_result"
    }
   ],
   "source": [
    "# Lista das colunas\n",
    "lista = ['total_cases','new_cases','total_deaths','new_deaths','total_vaccinations']\n",
    "\n",
    "# Fazendo loc na lista das colunas acima\n",
    "df = data_base.loc[:, lista]\n",
    "df"
   ]
  },
  {
   "cell_type": "markdown",
   "metadata": {},
   "source": [
    "Esse filtro irá excluir as linhas que não possuem números nos dados (NaN), permitindo uma análise sem lacunas."
   ]
  },
  {
   "cell_type": "code",
   "execution_count": 26,
   "metadata": {},
   "outputs": [
    {
     "data": {
      "text/html": [
       "<div>\n",
       "<style scoped>\n",
       "    .dataframe tbody tr th:only-of-type {\n",
       "        vertical-align: middle;\n",
       "    }\n",
       "\n",
       "    .dataframe tbody tr th {\n",
       "        vertical-align: top;\n",
       "    }\n",
       "\n",
       "    .dataframe thead th {\n",
       "        text-align: right;\n",
       "    }\n",
       "</style>\n",
       "<table border=\"1\" class=\"dataframe\">\n",
       "  <thead>\n",
       "    <tr style=\"text-align: right;\">\n",
       "      <th></th>\n",
       "      <th>total_cases</th>\n",
       "      <th>new_cases</th>\n",
       "      <th>total_deaths</th>\n",
       "      <th>new_deaths</th>\n",
       "      <th>total_vaccinations</th>\n",
       "    </tr>\n",
       "  </thead>\n",
       "  <tbody>\n",
       "    <tr>\n",
       "      <th>325</th>\n",
       "      <td>8455059</td>\n",
       "      <td>61567.0</td>\n",
       "      <td>209296.0</td>\n",
       "      <td>1050.0</td>\n",
       "      <td>0.0</td>\n",
       "    </tr>\n",
       "    <tr>\n",
       "      <th>326</th>\n",
       "      <td>8488099</td>\n",
       "      <td>33040.0</td>\n",
       "      <td>209847.0</td>\n",
       "      <td>551.0</td>\n",
       "      <td>112.0</td>\n",
       "    </tr>\n",
       "    <tr>\n",
       "      <th>327</th>\n",
       "      <td>8511770</td>\n",
       "      <td>23671.0</td>\n",
       "      <td>210299.0</td>\n",
       "      <td>452.0</td>\n",
       "      <td>1109.0</td>\n",
       "    </tr>\n",
       "    <tr>\n",
       "      <th>328</th>\n",
       "      <td>8573864</td>\n",
       "      <td>62094.0</td>\n",
       "      <td>211491.0</td>\n",
       "      <td>1192.0</td>\n",
       "      <td>11470.0</td>\n",
       "    </tr>\n",
       "    <tr>\n",
       "      <th>329</th>\n",
       "      <td>8638249</td>\n",
       "      <td>64385.0</td>\n",
       "      <td>212831.0</td>\n",
       "      <td>1340.0</td>\n",
       "      <td>28543.0</td>\n",
       "    </tr>\n",
       "    <tr>\n",
       "      <th>...</th>\n",
       "      <td>...</td>\n",
       "      <td>...</td>\n",
       "      <td>...</td>\n",
       "      <td>...</td>\n",
       "      <td>...</td>\n",
       "    </tr>\n",
       "    <tr>\n",
       "      <th>623</th>\n",
       "      <td>21909298</td>\n",
       "      <td>12273.0</td>\n",
       "      <td>610036.0</td>\n",
       "      <td>280.0</td>\n",
       "      <td>280989164.0</td>\n",
       "    </tr>\n",
       "    <tr>\n",
       "      <th>624</th>\n",
       "      <td>21924598</td>\n",
       "      <td>15300.0</td>\n",
       "      <td>610224.0</td>\n",
       "      <td>188.0</td>\n",
       "      <td>282987544.0</td>\n",
       "    </tr>\n",
       "    <tr>\n",
       "      <th>625</th>\n",
       "      <td>21939196</td>\n",
       "      <td>14598.0</td>\n",
       "      <td>610491.0</td>\n",
       "      <td>267.0</td>\n",
       "      <td>294219326.0</td>\n",
       "    </tr>\n",
       "    <tr>\n",
       "      <th>627</th>\n",
       "      <td>21957967</td>\n",
       "      <td>4129.0</td>\n",
       "      <td>611283.0</td>\n",
       "      <td>61.0</td>\n",
       "      <td>296865258.0</td>\n",
       "    </tr>\n",
       "    <tr>\n",
       "      <th>629</th>\n",
       "      <td>21965684</td>\n",
       "      <td>4918.0</td>\n",
       "      <td>611478.0</td>\n",
       "      <td>132.0</td>\n",
       "      <td>297103960.0</td>\n",
       "    </tr>\n",
       "  </tbody>\n",
       "</table>\n",
       "<p>242 rows × 5 columns</p>\n",
       "</div>"
      ],
      "text/plain": [
       "     total_cases  new_cases  total_deaths  new_deaths  total_vaccinations\n",
       "325      8455059    61567.0      209296.0      1050.0                 0.0\n",
       "326      8488099    33040.0      209847.0       551.0               112.0\n",
       "327      8511770    23671.0      210299.0       452.0              1109.0\n",
       "328      8573864    62094.0      211491.0      1192.0             11470.0\n",
       "329      8638249    64385.0      212831.0      1340.0             28543.0\n",
       "..           ...        ...           ...         ...                 ...\n",
       "623     21909298    12273.0      610036.0       280.0         280989164.0\n",
       "624     21924598    15300.0      610224.0       188.0         282987544.0\n",
       "625     21939196    14598.0      610491.0       267.0         294219326.0\n",
       "627     21957967     4129.0      611283.0        61.0         296865258.0\n",
       "629     21965684     4918.0      611478.0       132.0         297103960.0\n",
       "\n",
       "[242 rows x 5 columns]"
      ]
     },
     "execution_count": 26,
     "metadata": {},
     "output_type": "execute_result"
    }
   ],
   "source": [
    "# Retirando linhas com dados NaN\n",
    "df = df.dropna()\n",
    "df"
   ]
  },
  {
   "cell_type": "markdown",
   "metadata": {},
   "source": [
    "<div id=\"analise\"></div>\n",
    "\n",
    "### Análise Descritiva"
   ]
  },
  {
   "cell_type": "markdown",
   "metadata": {},
   "source": [
    "Nessa etapa será feita uma análise descritiva das variáveis para compreender como cada uma das features se comporta juntamente à variável target. Para tanto, foram plotados 5 histogramas, um para cada variável, para se obter intepretações quantitativas referentes à densidade. "
   ]
  },
  {
   "cell_type": "code",
   "execution_count": 27,
   "metadata": {},
   "outputs": [
    {
     "data": {
      "text/html": [
       "<div>\n",
       "<style scoped>\n",
       "    .dataframe tbody tr th:only-of-type {\n",
       "        vertical-align: middle;\n",
       "    }\n",
       "\n",
       "    .dataframe tbody tr th {\n",
       "        vertical-align: top;\n",
       "    }\n",
       "\n",
       "    .dataframe thead th {\n",
       "        text-align: right;\n",
       "    }\n",
       "</style>\n",
       "<table border=\"1\" class=\"dataframe\">\n",
       "  <thead>\n",
       "    <tr style=\"text-align: right;\">\n",
       "      <th></th>\n",
       "      <th>total_cases</th>\n",
       "      <th>new_cases</th>\n",
       "      <th>total_deaths</th>\n",
       "      <th>new_deaths</th>\n",
       "      <th>total_vaccinations</th>\n",
       "    </tr>\n",
       "  </thead>\n",
       "  <tbody>\n",
       "    <tr>\n",
       "      <th>count</th>\n",
       "      <td>2.420000e+02</td>\n",
       "      <td>242.000000</td>\n",
       "      <td>242.000000</td>\n",
       "      <td>242.000000</td>\n",
       "      <td>2.420000e+02</td>\n",
       "    </tr>\n",
       "    <tr>\n",
       "      <th>mean</th>\n",
       "      <td>1.607327e+07</td>\n",
       "      <td>46658.590909</td>\n",
       "      <td>436257.380165</td>\n",
       "      <td>1397.140496</td>\n",
       "      <td>9.559905e+07</td>\n",
       "    </tr>\n",
       "    <tr>\n",
       "      <th>std</th>\n",
       "      <td>4.419430e+06</td>\n",
       "      <td>26911.279407</td>\n",
       "      <td>138022.762996</td>\n",
       "      <td>948.427743</td>\n",
       "      <td>8.867244e+07</td>\n",
       "    </tr>\n",
       "    <tr>\n",
       "      <th>min</th>\n",
       "      <td>8.455059e+06</td>\n",
       "      <td>-573.000000</td>\n",
       "      <td>209296.000000</td>\n",
       "      <td>0.000000</td>\n",
       "      <td>0.000000e+00</td>\n",
       "    </tr>\n",
       "    <tr>\n",
       "      <th>25%</th>\n",
       "      <td>1.206815e+07</td>\n",
       "      <td>24654.000000</td>\n",
       "      <td>296237.750000</td>\n",
       "      <td>654.750000</td>\n",
       "      <td>1.438972e+07</td>\n",
       "    </tr>\n",
       "    <tr>\n",
       "      <th>50%</th>\n",
       "      <td>1.658502e+07</td>\n",
       "      <td>43274.000000</td>\n",
       "      <td>463995.000000</td>\n",
       "      <td>1212.500000</td>\n",
       "      <td>6.786347e+07</td>\n",
       "    </tr>\n",
       "    <tr>\n",
       "      <th>75%</th>\n",
       "      <td>2.032388e+07</td>\n",
       "      <td>70025.750000</td>\n",
       "      <td>568028.000000</td>\n",
       "      <td>2023.250000</td>\n",
       "      <td>1.620077e+08</td>\n",
       "    </tr>\n",
       "    <tr>\n",
       "      <th>max</th>\n",
       "      <td>2.196568e+07</td>\n",
       "      <td>115228.000000</td>\n",
       "      <td>611478.000000</td>\n",
       "      <td>4249.000000</td>\n",
       "      <td>2.971040e+08</td>\n",
       "    </tr>\n",
       "  </tbody>\n",
       "</table>\n",
       "</div>"
      ],
      "text/plain": [
       "        total_cases      new_cases   total_deaths   new_deaths  \\\n",
       "count  2.420000e+02     242.000000     242.000000   242.000000   \n",
       "mean   1.607327e+07   46658.590909  436257.380165  1397.140496   \n",
       "std    4.419430e+06   26911.279407  138022.762996   948.427743   \n",
       "min    8.455059e+06    -573.000000  209296.000000     0.000000   \n",
       "25%    1.206815e+07   24654.000000  296237.750000   654.750000   \n",
       "50%    1.658502e+07   43274.000000  463995.000000  1212.500000   \n",
       "75%    2.032388e+07   70025.750000  568028.000000  2023.250000   \n",
       "max    2.196568e+07  115228.000000  611478.000000  4249.000000   \n",
       "\n",
       "       total_vaccinations  \n",
       "count        2.420000e+02  \n",
       "mean         9.559905e+07  \n",
       "std          8.867244e+07  \n",
       "min          0.000000e+00  \n",
       "25%          1.438972e+07  \n",
       "50%          6.786347e+07  \n",
       "75%          1.620077e+08  \n",
       "max          2.971040e+08  "
      ]
     },
     "execution_count": 27,
     "metadata": {},
     "output_type": "execute_result"
    }
   ],
   "source": [
    "# informações estatísticas da moldura dos dados\n",
    "df.describe()"
   ]
  },
  {
   "cell_type": "code",
   "execution_count": 28,
   "metadata": {},
   "outputs": [
    {
     "data": {
      "image/png": "[encoded data removed]",
      "text/plain": [
       "<Figure size 1440x720 with 5 Axes>"
      ]
     },
     "metadata": {
      "needs_background": "light"
     },
     "output_type": "display_data"
    }
   ],
   "source": [
    "figure = plt.figure(figsize=(20, 10))\n",
    "\n",
    "# Plotando o gráfico da densidade dos casos totais\n",
    "plt.subplot(2, 3, 1)\n",
    "plt.hist(df.total_cases, edgecolor='white', color='green',density=True)\n",
    "plt.title('Densidade dos Casos Totais')\n",
    "plt.ylabel('Densidade')\n",
    "plt.xlabel('Casos Totais')\n",
    "\n",
    "# Plotando o gráfico da densidade dos novos casos\n",
    "plt.subplot(2, 3, 2)\n",
    "plt.hist(df.new_cases, edgecolor='white', color='blue', density=True)\n",
    "plt.title('Densidade dos Novos Casos')\n",
    "plt.ylabel('Densidade')\n",
    "plt.xlabel('Novos Casos')\n",
    "\n",
    "# Plotando o gráfico da densidade do total de mortes\n",
    "plt.subplot(2, 3, 3)\n",
    "plt.hist(df.total_deaths, edgecolor='white', color='pink', density=True)\n",
    "plt.title('Densidade das Mortes Totais')\n",
    "plt.ylabel('Densidade')\n",
    "plt.xlabel('Mortes Totais')\n",
    "\n",
    "# Plotando o gráfico da densidade das novas mortes\n",
    "plt.subplot(2, 3, 4)\n",
    "plt.hist(df.new_deaths, edgecolor='white', color='brown', density=True)\n",
    "plt.title('Densidade das Novas Mortes')\n",
    "plt.ylabel('Densidade')\n",
    "plt.xlabel('Novas Mortes')\n",
    "\n",
    "# Plotando o gráfico da densidade do total de vacinações\n",
    "plt.subplot(2, 3, 5)\n",
    "plt.hist(df.total_vaccinations, edgecolor='white', color='gold', density=True)\n",
    "plt.title('Densidade das Vacinações Totais')\n",
    "plt.ylabel('Densidade')\n",
    "plt.xlabel('Vacinações Totais')\n",
    "\n",
    "figure.tight_layout(pad=3.0)\n",
    "plt.show()"
   ]
  },
  {
   "cell_type": "markdown",
   "metadata": {},
   "source": [
    "Continuando a análise, foram plotados 4 gráficos de dispersão, de cada feature (total de vacinações, total de casos, novas mortes e total de mortes) com a target em questão, ou seja, \"novos casos\". "
   ]
  },
  {
   "cell_type": "code",
   "execution_count": 29,
   "metadata": {},
   "outputs": [
    {
     "data": {
      "image/png": "[encoded data removed]",
      "text/plain": [
       "<Figure size 1440x1440 with 4 Axes>"
      ]
     },
     "metadata": {
      "needs_background": "light"
     },
     "output_type": "display_data"
    }
   ],
   "source": [
    "figure = plt.figure(figsize=(20, 20))\n",
    "\n",
    "# Plotando o gráfico dos novos casos pelo total de vacinações\n",
    "plt.subplot(2, 2, 1)\n",
    "plt.scatter(df.total_vaccinations, df.new_cases, c='red', alpha=0.4)\n",
    "plt.title('Novos casos pelo total de vacinações', fontsize=16)\n",
    "plt.xlabel('Total de vacinações', fontsize=14)\n",
    "plt.ylabel('Novos casos', fontsize=14)\n",
    "\n",
    "# Plotando o gráfico dos novos casos pelo total de casos\n",
    "plt.subplot(2, 2, 2)\n",
    "plt.scatter(df.total_cases, df.new_cases, c='blue', alpha=0.4)\n",
    "plt.title('Novos casos pelo total de casos', fontsize=16)\n",
    "plt.xlabel('Total de casos', fontsize=14)\n",
    "plt.ylabel('Novos casos', fontsize=14)\n",
    "\n",
    "# Plotando o gráfico dos novos casos pelas novas mortes\n",
    "plt.subplot(2, 2, 3)\n",
    "plt.scatter(df.new_deaths, df.new_cases, c='green', alpha=0.4)\n",
    "plt.title('Novos casos pelas novas mortes', fontsize=16)\n",
    "plt.xlabel('Novas mortes', fontsize=14)\n",
    "plt.ylabel('Novos casos', fontsize=14)\n",
    "\n",
    "# Plotando o gráfico dos novos casos pelo total de mortes\n",
    "plt.subplot(2, 2, 4)\n",
    "plt.scatter(df.total_deaths, df.new_cases, c='black', alpha=0.4)\n",
    "plt.title('Novos casos pelo total de mortes', fontsize=16)\n",
    "plt.xlabel('Total de mortes', fontsize=14)\n",
    "plt.ylabel('Novos casos', fontsize=14)\n",
    "plt.show()\n"
   ]
  },
  {
   "cell_type": "markdown",
   "id": "76edcab1",
   "metadata": {},
   "source": [
    "<div id=\"exploratoria\"></div>\n",
    "\n",
    "### Conclusões da análise exploratória:"
   ]
  },
  {
   "cell_type": "markdown",
   "id": "a4f6b257",
   "metadata": {},
   "source": [
    "<div id=\"histogramas\"></div>\n",
    "\n",
    "#### Análise dos histogramas:"
   ]
  },
  {
   "cell_type": "markdown",
   "metadata": {},
   "source": [
    "- <em><b> Casos totais: </b></em> É percebido, no maior período analisado do gráfico, uma certa homogeneidade no valor da densidade, por volta de 0.6e-7 de 10.000.000 até 19.000.000 de casos totais. Entretanto, ao início e ao fim do gráfico, há densidades bem maiores, principalmente ao fim, com 22.000.000 de casos totais em uma densidade de 1.6e-7.\n",
    "- <em><b> Novos casos: </b></em> É percebido uma maior densidade dos valores de novos casos de 20.000 à 40.000, com densidade em pico, por volta de 1.3e-5 e em 70.000 à 90.000, com densidade por volta de 1.0e-5 e 1.2e-5, possivelmente decorrente aos valores de maior frequência desses casos.\n",
    "- <em><b> Mortes totais: </b></em> É percebido uma densidade aproximadamente constante, com aproximadamente 1.7e-6 de 250.000 à 500.000 de mortes. Ademais, há uma maior densidade em 600.000 mortes, seguido de 240.000 e de 550.000 mortes, com densidade de 6.0e-6, 4.0e-6 e 3.5e-6, respectivamente. \n",
    "- <em><b> Novas Mortes: </b></em> Percebe-se que a densidade apresenta-se constante nos intervalos de 500 a 1800, com a densidade de aproximadamente 0.45e-3 e que, após esse intervalo e até o fim da amostra, diminui-se mais da metade da densidade.\n",
    "- <em><b> Vacinações totais: </b></em> Constata-se que esse gráfico possui um pico da densidade de 1.1e-8 no intervalo de 0 a 30.000.000. Depois desse período, a densidade fica mais ou menos estabilizada e constante, com densidade diminuindo gradativamente de 0.4e-8 a 0.2e-8."
   ]
  },
  {
   "cell_type": "markdown",
   "id": "937a9efb",
   "metadata": {},
   "source": [
    "<div id=\"dispersao\"></div>\n",
    "\n",
    "#### Análise dos gráficos de dispersão:"
   ]
  },
  {
   "cell_type": "markdown",
   "id": "1c37eeef",
   "metadata": {},
   "source": [
    "- <em><b> Vacinações totais: </b></em> Quando é analisado o total de vacinações por novos casos, percebe-se que com o crescimento de vacinações do Brasil, ocorre uma redução de novos casos, indicando uma efetividade da vacina.\n",
    "- <em><b> Casos totais: </b></em> Quando analisamos total de vacinações por casos totais, percebe-se que no começo não há uma relação tão evidente entre os eixos; porém, em dados mais recentes, indica-se uma redução do número de novos casos, com o aumento de cassos totais. \n",
    "- <em><b> Novas mortes: </b></em> Quando analisamos as novas mortes por casos totais, percebe-se que há um aumento do número de mortes, com o aumento de casos totais. \n",
    "- <em><b> Mortes totais: </b></em> Por fim, percebe-se que, assim como em casos totais, no começo não há uma relação tão evidente entre os eixos; porém, em dados mais recentes, indica-se uma redução do número de novos casos, com o aumento de mortes totais. "
   ]
  },
  {
   "cell_type": "markdown",
   "metadata": {},
   "source": [
    "<div id=\"modelos\"></div>\n",
    "\n",
    "___\n",
    "## Modelos de Predição"
   ]
  },
  {
   "cell_type": "markdown",
   "id": "821665f7",
   "metadata": {},
   "source": [
    "Os 3 modelos escolhidos foram a \"Regressão Múltipla\", \"Regression Tree\" e \"Random Forest Regression\"."
   ]
  },
  {
   "cell_type": "markdown",
   "id": "51e3e290",
   "metadata": {},
   "source": [
    "<div id=\"modelo1\"></div>\n",
    "\n",
    "### Regressão Múltipla"
   ]
  },
  {
   "cell_type": "markdown",
   "id": "42ac439f",
   "metadata": {},
   "source": [
    "Primeiramente,o modelo de Regressão Múltipla foi escolhido por ser um modelo consideravelmente simples de ser configurado em relação a outros modelos existentes, analisando a relação entre as variáveis Features com a variável resposta Target, encontrando coeficientes que determinam uma reta. Através dela, podemos prever o valor da variável Target, possuindo apenas as variáveis Features. \n",
    "\n",
    "<center> <img src=\"imagens/multiple_regression.png\" width=500> </center> \n",
    "<center> <em><i> Imagem de uma \"Multiple Regression\" disponível em: https://www.mathworks.com/help/stats/regress.html </i></em> </center>"
   ]
  },
  {
   "cell_type": "markdown",
   "id": "15881940",
   "metadata": {},
   "source": [
    "<div id=\"modelo2\"></div>\n",
    "\n",
    "### Regression Tree"
   ]
  },
  {
   "cell_type": "markdown",
   "id": "4d1e5a9f",
   "metadata": {},
   "source": [
    "O modelo Regression Tree é um classificador em formato de \"Árvore\" com três tipos de nós, o nó raiz que representa toda a amostra, os nós internos, oriundos do nó raiz, que representam os recursos do conjunto de dados, e suas ramificações representam as regras de decisão, por fim os nós Folha representam o resultado, ou seja, sua tomada de decisão.\n",
    "\n",
    "<center> <img src=\"imagens/regression_tree.png\" width=500> </center> \n",
    "<center> <em><i> Imagem de uma \"Regression Tree\" disponível em: https://towardsdatascience.com/machine-learning-basics-decision-tree-regression-1d73ea003fda </i></em> </center>\n",
    "\n",
    "Esse algoritmo foi escolhido dada a sua facilidade de entender, não ser necessário realizar uma grande limpeza de dados e além de que seu desempenho não é afetado pela falta de linearidade. No entanto, apesar de a necessidade de ajustar hiperparâmetros ser quase nula, pode haver um problema de over-fitting."
   ]
  },
  {
   "cell_type": "markdown",
   "id": "e202b9df",
   "metadata": {},
   "source": [
    "<div id=\"modelo3\"></div>\n",
    "\n",
    "### Random Forest Regression"
   ]
  },
  {
   "cell_type": "markdown",
   "id": "644f8edc",
   "metadata": {},
   "source": [
    "O problema de over-fitting mencionado no modelo anterior pode ser resolvido pelo algoritmo Random Forest Regression. Esse é, portanto, o motivo de termos o escolhido como o próximo modelo aplicado.\n",
    "\n",
    "<center> <img src=\"imagens/random_forest.png\" width=500> </center> \n",
    "<center> <em><i> Imagem de uma \"Random Forest Regression\" disponível em: https://levelup.gitconnected.com/random-forest-regression-209c0f354c84 </i></em> </center>\n",
    "\n",
    "O Random Forest Regression utiliza o método Ensemble Learning para realizar uma regressão. Essa técnica combina a previsão de vários algoritmos de Regression Tree, tendo uma previsão mais precisa do que apenas um único modelo. Dessa forma, uma Random Forest contrói várias árvores de decisão, onde uma não influencia na outra, e produz a média das classes como a previsão de uma das árvores. O over-fitting, portanto, se reduz justamente por essa mescla da saída de várias árvores de decisão para gera a saída final."
   ]
  },
  {
   "cell_type": "markdown",
   "metadata": {},
   "source": [
    "<div id=\"processo\"></div>\n",
    "\n",
    "___\n",
    "## Processo e Estatísticas de Validação"
   ]
  },
  {
   "cell_type": "markdown",
   "metadata": {},
   "source": [
    "Após ter sido feita a explicação de como cada modelo funciona e qual o motivo de eles terem sido escolhidos, os modelos serão desenvolvidos para realizar os cálculos necessários que indicarão a performance de modelo preditivo.\n",
    "\n",
    "Primeiramente, a base de dados é separada em duas partes, a de teste e a de treinamento. A parte de treinamento será usada para calibrar o modelo e a parte de teste para estimar os modelos preditivos."
   ]
  },
  {
   "cell_type": "code",
   "execution_count": 30,
   "metadata": {},
   "outputs": [],
   "source": [
    "# Dividindo os dados em train e test\n",
    "X = df[['total_vaccinations', 'new_deaths', 'total_deaths','total_cases']]\n",
    "Y = df['new_cases']\n",
    "X_train, X_test, Y_train, Y_test = train_test_split(X, Y, test_size = 0.2, random_state = 1)"
   ]
  },
  {
   "cell_type": "markdown",
   "metadata": {},
   "source": [
    "<div id=\"multipla\"></div>\n",
    "\n",
    "### Regressão Múltipla"
   ]
  },
  {
   "cell_type": "markdown",
   "metadata": {},
   "source": [
    "Função que aplica o modelo de Regressão Múltipla para os valores recebidos de entrada pela base de dados:"
   ]
  },
  {
   "cell_type": "code",
   "execution_count": 31,
   "metadata": {},
   "outputs": [],
   "source": [
    "# Função para fazer a regressão com constante adicionada\n",
    "def Regressão(X, Y):\n",
    "    X_cp = sm.add_constant(X)\n",
    "    model = sm.OLS(Y,X_cp)\n",
    "    results = model.fit()\n",
    "    return results"
   ]
  },
  {
   "cell_type": "markdown",
   "metadata": {},
   "source": [
    "Primeira aplicação da Regressão com os valores de X_train e Y_train:"
   ]
  },
  {
   "cell_type": "code",
   "execution_count": 32,
   "metadata": {},
   "outputs": [
    {
     "data": {
      "text/html": [
       "<table class=\"simpletable\">\n",
       "<caption>OLS Regression Results</caption>\n",
       "<tr>\n",
       "  <th>Dep. Variable:</th>        <td>new_cases</td>    <th>  R-squared:         </th> <td>   0.811</td>\n",
       "</tr>\n",
       "<tr>\n",
       "  <th>Model:</th>                   <td>OLS</td>       <th>  Adj. R-squared:    </th> <td>   0.807</td>\n",
       "</tr>\n",
       "<tr>\n",
       "  <th>Method:</th>             <td>Least Squares</td>  <th>  F-statistic:       </th> <td>   201.2</td>\n",
       "</tr>\n",
       "<tr>\n",
       "  <th>Date:</th>             <td>Tue, 30 Nov 2021</td> <th>  Prob (F-statistic):</th> <td>9.11e-67</td>\n",
       "</tr>\n",
       "<tr>\n",
       "  <th>Time:</th>                 <td>17:59:43</td>     <th>  Log-Likelihood:    </th> <td> -2083.8</td>\n",
       "</tr>\n",
       "<tr>\n",
       "  <th>No. Observations:</th>      <td>   193</td>      <th>  AIC:               </th> <td>   4178.</td>\n",
       "</tr>\n",
       "<tr>\n",
       "  <th>Df Residuals:</th>          <td>   188</td>      <th>  BIC:               </th> <td>   4194.</td>\n",
       "</tr>\n",
       "<tr>\n",
       "  <th>Df Model:</th>              <td>     4</td>      <th>                     </th>     <td> </td>   \n",
       "</tr>\n",
       "<tr>\n",
       "  <th>Covariance Type:</th>      <td>nonrobust</td>    <th>                     </th>     <td> </td>   \n",
       "</tr>\n",
       "</table>\n",
       "<table class=\"simpletable\">\n",
       "<tr>\n",
       "           <td></td>             <th>coef</th>     <th>std err</th>      <th>t</th>      <th>P>|t|</th>  <th>[0.025</th>    <th>0.975]</th>  \n",
       "</tr>\n",
       "<tr>\n",
       "  <th>const</th>              <td> 3.678e+04</td> <td> 1.27e+04</td> <td>    2.907</td> <td> 0.004</td> <td> 1.18e+04</td> <td> 6.17e+04</td>\n",
       "</tr>\n",
       "<tr>\n",
       "  <th>total_vaccinations</th> <td>-5.224e-05</td> <td> 3.57e-05</td> <td>   -1.464</td> <td> 0.145</td> <td>   -0.000</td> <td> 1.81e-05</td>\n",
       "</tr>\n",
       "<tr>\n",
       "  <th>new_deaths</th>         <td>   21.7887</td> <td>    1.202</td> <td>   18.124</td> <td> 0.000</td> <td>   19.417</td> <td>   24.160</td>\n",
       "</tr>\n",
       "<tr>\n",
       "  <th>total_deaths</th>       <td>    0.1967</td> <td>    0.127</td> <td>    1.551</td> <td> 0.123</td> <td>   -0.054</td> <td>    0.447</td>\n",
       "</tr>\n",
       "<tr>\n",
       "  <th>total_cases</th>        <td>   -0.0063</td> <td>    0.004</td> <td>   -1.471</td> <td> 0.143</td> <td>   -0.015</td> <td>    0.002</td>\n",
       "</tr>\n",
       "</table>\n",
       "<table class=\"simpletable\">\n",
       "<tr>\n",
       "  <th>Omnibus:</th>       <td>58.438</td> <th>  Durbin-Watson:     </th> <td>   2.174</td>\n",
       "</tr>\n",
       "<tr>\n",
       "  <th>Prob(Omnibus):</th> <td> 0.000</td> <th>  Jarque-Bera (JB):  </th> <td> 243.529</td>\n",
       "</tr>\n",
       "<tr>\n",
       "  <th>Skew:</th>          <td> 1.105</td> <th>  Prob(JB):          </th> <td>1.31e-53</td>\n",
       "</tr>\n",
       "<tr>\n",
       "  <th>Kurtosis:</th>      <td> 8.040</td> <th>  Cond. No.          </th> <td>1.91e+09</td>\n",
       "</tr>\n",
       "</table><br/><br/>Notes:<br/>[1] Standard Errors assume that the covariance matrix of the errors is correctly specified.<br/>[2] The condition number is large, 1.91e+09. This might indicate that there are<br/>strong multicollinearity or other numerical problems."
      ],
      "text/plain": [
       "<class 'statsmodels.iolib.summary.Summary'>\n",
       "\"\"\"\n",
       "                            OLS Regression Results                            \n",
       "==============================================================================\n",
       "Dep. Variable:              new_cases   R-squared:                       0.811\n",
       "Model:                            OLS   Adj. R-squared:                  0.807\n",
       "Method:                 Least Squares   F-statistic:                     201.2\n",
       "Date:                Tue, 30 Nov 2021   Prob (F-statistic):           9.11e-67\n",
       "Time:                        17:59:43   Log-Likelihood:                -2083.8\n",
       "No. Observations:                 193   AIC:                             4178.\n",
       "Df Residuals:                     188   BIC:                             4194.\n",
       "Df Model:                           4                                         \n",
       "Covariance Type:            nonrobust                                         \n",
       "======================================================================================\n",
       "                         coef    std err          t      P>|t|      [0.025      0.975]\n",
       "--------------------------------------------------------------------------------------\n",
       "const               3.678e+04   1.27e+04      2.907      0.004    1.18e+04    6.17e+04\n",
       "total_vaccinations -5.224e-05   3.57e-05     -1.464      0.145      -0.000    1.81e-05\n",
       "new_deaths            21.7887      1.202     18.124      0.000      19.417      24.160\n",
       "total_deaths           0.1967      0.127      1.551      0.123      -0.054       0.447\n",
       "total_cases           -0.0063      0.004     -1.471      0.143      -0.015       0.002\n",
       "==============================================================================\n",
       "Omnibus:                       58.438   Durbin-Watson:                   2.174\n",
       "Prob(Omnibus):                  0.000   Jarque-Bera (JB):              243.529\n",
       "Skew:                           1.105   Prob(JB):                     1.31e-53\n",
       "Kurtosis:                       8.040   Cond. No.                     1.91e+09\n",
       "==============================================================================\n",
       "\n",
       "Notes:\n",
       "[1] Standard Errors assume that the covariance matrix of the errors is correctly specified.\n",
       "[2] The condition number is large, 1.91e+09. This might indicate that there are\n",
       "strong multicollinearity or other numerical problems.\n",
       "\"\"\""
      ]
     },
     "execution_count": 32,
     "metadata": {},
     "output_type": "execute_result"
    }
   ],
   "source": [
    "results = Regressão(X_train, Y_train)\n",
    "results.summary()"
   ]
  },
  {
   "cell_type": "markdown",
   "metadata": {},
   "source": [
    "Segunda aplicação da Regressão com os valores totais de vacinações, novas mortes e total de mortes:"
   ]
  },
  {
   "cell_type": "code",
   "execution_count": 33,
   "metadata": {},
   "outputs": [
    {
     "data": {
      "text/html": [
       "<table class=\"simpletable\">\n",
       "<caption>OLS Regression Results</caption>\n",
       "<tr>\n",
       "  <th>Dep. Variable:</th>        <td>new_cases</td>    <th>  R-squared:         </th> <td>   0.808</td>\n",
       "</tr>\n",
       "<tr>\n",
       "  <th>Model:</th>                   <td>OLS</td>       <th>  Adj. R-squared:    </th> <td>   0.805</td>\n",
       "</tr>\n",
       "<tr>\n",
       "  <th>Method:</th>             <td>Least Squares</td>  <th>  F-statistic:       </th> <td>   265.9</td>\n",
       "</tr>\n",
       "<tr>\n",
       "  <th>Date:</th>             <td>Tue, 30 Nov 2021</td> <th>  Prob (F-statistic):</th> <td>1.50e-67</td>\n",
       "</tr>\n",
       "<tr>\n",
       "  <th>Time:</th>                 <td>17:59:43</td>     <th>  Log-Likelihood:    </th> <td> -2084.9</td>\n",
       "</tr>\n",
       "<tr>\n",
       "  <th>No. Observations:</th>      <td>   193</td>      <th>  AIC:               </th> <td>   4178.</td>\n",
       "</tr>\n",
       "<tr>\n",
       "  <th>Df Residuals:</th>          <td>   189</td>      <th>  BIC:               </th> <td>   4191.</td>\n",
       "</tr>\n",
       "<tr>\n",
       "  <th>Df Model:</th>              <td>     3</td>      <th>                     </th>     <td> </td>   \n",
       "</tr>\n",
       "<tr>\n",
       "  <th>Covariance Type:</th>      <td>nonrobust</td>    <th>                     </th>     <td> </td>   \n",
       "</tr>\n",
       "</table>\n",
       "<table class=\"simpletable\">\n",
       "<tr>\n",
       "           <td></td>             <th>coef</th>     <th>std err</th>      <th>t</th>      <th>P>|t|</th>  <th>[0.025</th>    <th>0.975]</th>  \n",
       "</tr>\n",
       "<tr>\n",
       "  <th>const</th>              <td> 1.951e+04</td> <td> 4741.992</td> <td>    4.115</td> <td> 0.000</td> <td> 1.02e+04</td> <td> 2.89e+04</td>\n",
       "</tr>\n",
       "<tr>\n",
       "  <th>total_vaccinations</th> <td>-8.399e-05</td> <td> 2.85e-05</td> <td>   -2.948</td> <td> 0.004</td> <td>   -0.000</td> <td>-2.78e-05</td>\n",
       "</tr>\n",
       "<tr>\n",
       "  <th>new_deaths</th>         <td>   21.3422</td> <td>    1.167</td> <td>   18.291</td> <td> 0.000</td> <td>   19.041</td> <td>   23.644</td>\n",
       "</tr>\n",
       "<tr>\n",
       "  <th>total_deaths</th>       <td>    0.0116</td> <td>    0.016</td> <td>    0.718</td> <td> 0.474</td> <td>   -0.020</td> <td>    0.044</td>\n",
       "</tr>\n",
       "</table>\n",
       "<table class=\"simpletable\">\n",
       "<tr>\n",
       "  <th>Omnibus:</th>       <td>55.833</td> <th>  Durbin-Watson:     </th> <td>   2.162</td>\n",
       "</tr>\n",
       "<tr>\n",
       "  <th>Prob(Omnibus):</th> <td> 0.000</td> <th>  Jarque-Bera (JB):  </th> <td> 217.973</td>\n",
       "</tr>\n",
       "<tr>\n",
       "  <th>Skew:</th>          <td> 1.073</td> <th>  Prob(JB):          </th> <td>4.65e-48</td>\n",
       "</tr>\n",
       "<tr>\n",
       "  <th>Kurtosis:</th>      <td> 7.744</td> <th>  Cond. No.          </th> <td>7.08e+08</td>\n",
       "</tr>\n",
       "</table><br/><br/>Notes:<br/>[1] Standard Errors assume that the covariance matrix of the errors is correctly specified.<br/>[2] The condition number is large, 7.08e+08. This might indicate that there are<br/>strong multicollinearity or other numerical problems."
      ],
      "text/plain": [
       "<class 'statsmodels.iolib.summary.Summary'>\n",
       "\"\"\"\n",
       "                            OLS Regression Results                            \n",
       "==============================================================================\n",
       "Dep. Variable:              new_cases   R-squared:                       0.808\n",
       "Model:                            OLS   Adj. R-squared:                  0.805\n",
       "Method:                 Least Squares   F-statistic:                     265.9\n",
       "Date:                Tue, 30 Nov 2021   Prob (F-statistic):           1.50e-67\n",
       "Time:                        17:59:43   Log-Likelihood:                -2084.9\n",
       "No. Observations:                 193   AIC:                             4178.\n",
       "Df Residuals:                     189   BIC:                             4191.\n",
       "Df Model:                           3                                         \n",
       "Covariance Type:            nonrobust                                         \n",
       "======================================================================================\n",
       "                         coef    std err          t      P>|t|      [0.025      0.975]\n",
       "--------------------------------------------------------------------------------------\n",
       "const               1.951e+04   4741.992      4.115      0.000    1.02e+04    2.89e+04\n",
       "total_vaccinations -8.399e-05   2.85e-05     -2.948      0.004      -0.000   -2.78e-05\n",
       "new_deaths            21.3422      1.167     18.291      0.000      19.041      23.644\n",
       "total_deaths           0.0116      0.016      0.718      0.474      -0.020       0.044\n",
       "==============================================================================\n",
       "Omnibus:                       55.833   Durbin-Watson:                   2.162\n",
       "Prob(Omnibus):                  0.000   Jarque-Bera (JB):              217.973\n",
       "Skew:                           1.073   Prob(JB):                     4.65e-48\n",
       "Kurtosis:                       7.744   Cond. No.                     7.08e+08\n",
       "==============================================================================\n",
       "\n",
       "Notes:\n",
       "[1] Standard Errors assume that the covariance matrix of the errors is correctly specified.\n",
       "[2] The condition number is large, 7.08e+08. This might indicate that there are\n",
       "strong multicollinearity or other numerical problems.\n",
       "\"\"\""
      ]
     },
     "execution_count": 33,
     "metadata": {},
     "output_type": "execute_result"
    }
   ],
   "source": [
    "X1 = X_train[['total_vaccinations', 'new_deaths', 'total_deaths']]\n",
    "results1 = Regressão(X1,Y_train)\n",
    "results1.summary()"
   ]
  },
  {
   "cell_type": "markdown",
   "metadata": {},
   "source": [
    "Terceira aplicação da Regressão com os valores totais de vacinações e as novas mortes:"
   ]
  },
  {
   "cell_type": "code",
   "execution_count": 34,
   "metadata": {},
   "outputs": [
    {
     "data": {
      "text/html": [
       "<table class=\"simpletable\">\n",
       "<caption>OLS Regression Results</caption>\n",
       "<tr>\n",
       "  <th>Dep. Variable:</th>        <td>new_cases</td>    <th>  R-squared:         </th> <td>   0.808</td>\n",
       "</tr>\n",
       "<tr>\n",
       "  <th>Model:</th>                   <td>OLS</td>       <th>  Adj. R-squared:    </th> <td>   0.806</td>\n",
       "</tr>\n",
       "<tr>\n",
       "  <th>Method:</th>             <td>Least Squares</td>  <th>  F-statistic:       </th> <td>   399.6</td>\n",
       "</tr>\n",
       "<tr>\n",
       "  <th>Date:</th>             <td>Tue, 30 Nov 2021</td> <th>  Prob (F-statistic):</th> <td>8.59e-69</td>\n",
       "</tr>\n",
       "<tr>\n",
       "  <th>Time:</th>                 <td>17:59:43</td>     <th>  Log-Likelihood:    </th> <td> -2085.2</td>\n",
       "</tr>\n",
       "<tr>\n",
       "  <th>No. Observations:</th>      <td>   193</td>      <th>  AIC:               </th> <td>   4176.</td>\n",
       "</tr>\n",
       "<tr>\n",
       "  <th>Df Residuals:</th>          <td>   190</td>      <th>  BIC:               </th> <td>   4186.</td>\n",
       "</tr>\n",
       "<tr>\n",
       "  <th>Df Model:</th>              <td>     2</td>      <th>                     </th>     <td> </td>   \n",
       "</tr>\n",
       "<tr>\n",
       "  <th>Covariance Type:</th>      <td>nonrobust</td>    <th>                     </th>     <td> </td>   \n",
       "</tr>\n",
       "</table>\n",
       "<table class=\"simpletable\">\n",
       "<tr>\n",
       "           <td></td>             <th>coef</th>     <th>std err</th>      <th>t</th>      <th>P>|t|</th>  <th>[0.025</th>    <th>0.975]</th>  \n",
       "</tr>\n",
       "<tr>\n",
       "  <th>const</th>              <td>  2.24e+04</td> <td> 2505.624</td> <td>    8.942</td> <td> 0.000</td> <td> 1.75e+04</td> <td> 2.73e+04</td>\n",
       "</tr>\n",
       "<tr>\n",
       "  <th>total_vaccinations</th> <td>-6.545e-05</td> <td>  1.2e-05</td> <td>   -5.434</td> <td> 0.000</td> <td>-8.92e-05</td> <td>-4.17e-05</td>\n",
       "</tr>\n",
       "<tr>\n",
       "  <th>new_deaths</th>         <td>   21.6610</td> <td>    1.078</td> <td>   20.099</td> <td> 0.000</td> <td>   19.535</td> <td>   23.787</td>\n",
       "</tr>\n",
       "</table>\n",
       "<table class=\"simpletable\">\n",
       "<tr>\n",
       "  <th>Omnibus:</th>       <td>57.896</td> <th>  Durbin-Watson:     </th> <td>   2.166</td>\n",
       "</tr>\n",
       "<tr>\n",
       "  <th>Prob(Omnibus):</th> <td> 0.000</td> <th>  Jarque-Bera (JB):  </th> <td> 238.234</td>\n",
       "</tr>\n",
       "<tr>\n",
       "  <th>Skew:</th>          <td> 1.098</td> <th>  Prob(JB):          </th> <td>1.85e-52</td>\n",
       "</tr>\n",
       "<tr>\n",
       "  <th>Kurtosis:</th>      <td> 7.980</td> <th>  Cond. No.          </th> <td>3.74e+08</td>\n",
       "</tr>\n",
       "</table><br/><br/>Notes:<br/>[1] Standard Errors assume that the covariance matrix of the errors is correctly specified.<br/>[2] The condition number is large, 3.74e+08. This might indicate that there are<br/>strong multicollinearity or other numerical problems."
      ],
      "text/plain": [
       "<class 'statsmodels.iolib.summary.Summary'>\n",
       "\"\"\"\n",
       "                            OLS Regression Results                            \n",
       "==============================================================================\n",
       "Dep. Variable:              new_cases   R-squared:                       0.808\n",
       "Model:                            OLS   Adj. R-squared:                  0.806\n",
       "Method:                 Least Squares   F-statistic:                     399.6\n",
       "Date:                Tue, 30 Nov 2021   Prob (F-statistic):           8.59e-69\n",
       "Time:                        17:59:43   Log-Likelihood:                -2085.2\n",
       "No. Observations:                 193   AIC:                             4176.\n",
       "Df Residuals:                     190   BIC:                             4186.\n",
       "Df Model:                           2                                         \n",
       "Covariance Type:            nonrobust                                         \n",
       "======================================================================================\n",
       "                         coef    std err          t      P>|t|      [0.025      0.975]\n",
       "--------------------------------------------------------------------------------------\n",
       "const                2.24e+04   2505.624      8.942      0.000    1.75e+04    2.73e+04\n",
       "total_vaccinations -6.545e-05    1.2e-05     -5.434      0.000   -8.92e-05   -4.17e-05\n",
       "new_deaths            21.6610      1.078     20.099      0.000      19.535      23.787\n",
       "==============================================================================\n",
       "Omnibus:                       57.896   Durbin-Watson:                   2.166\n",
       "Prob(Omnibus):                  0.000   Jarque-Bera (JB):              238.234\n",
       "Skew:                           1.098   Prob(JB):                     1.85e-52\n",
       "Kurtosis:                       7.980   Cond. No.                     3.74e+08\n",
       "==============================================================================\n",
       "\n",
       "Notes:\n",
       "[1] Standard Errors assume that the covariance matrix of the errors is correctly specified.\n",
       "[2] The condition number is large, 3.74e+08. This might indicate that there are\n",
       "strong multicollinearity or other numerical problems.\n",
       "\"\"\""
      ]
     },
     "execution_count": 34,
     "metadata": {},
     "output_type": "execute_result"
    }
   ],
   "source": [
    "X2 = X_train[['total_vaccinations', 'new_deaths']]\n",
    "results2 = Regressão(X2,Y_train)\n",
    "results2.summary()"
   ]
  },
  {
   "cell_type": "markdown",
   "metadata": {},
   "source": [
    "Cálculo dos coeficientes que determinarão a reta de Regressão a partir do modelo e as Features que forão selecionadas:"
   ]
  },
  {
   "cell_type": "code",
   "execution_count": 35,
   "metadata": {},
   "outputs": [],
   "source": [
    "# Acessando os parâmetros calculados\n",
    "beta0_hat = results2.params[0]  # const\n",
    "beta1_hat = results2.params[1]  # total_vaccinations\n",
    "beta2_hat = results2.params[2]  # new_deaths"
   ]
  },
  {
   "cell_type": "markdown",
   "metadata": {},
   "source": [
    "Função da reta que calcula os valores de previsão da variável Target:"
   ]
  },
  {
   "cell_type": "code",
   "execution_count": 36,
   "metadata": {},
   "outputs": [],
   "source": [
    "# Definindo a função que se aplica aos parâmetros\n",
    "def f(feature1, feature2):\n",
    "    return beta0_hat + beta1_hat*feature1 + beta2_hat*feature2"
   ]
  },
  {
   "cell_type": "markdown",
   "metadata": {},
   "source": [
    "Cálculo dos valores previstos para a base de teste e plotagem do gráfico que mostra a relação entre os valores previstos e os valores reais:"
   ]
  },
  {
   "cell_type": "code",
   "execution_count": 37,
   "metadata": {
    "scrolled": false
   },
   "outputs": [
    {
     "data": {
      "image/png": "[encoded data removed]",
      "text/plain": [
       "<Figure size 576x576 with 1 Axes>"
      ]
     },
     "metadata": {
      "needs_background": "light"
     },
     "output_type": "display_data"
    }
   ],
   "source": [
    "y_pred_m = []\n",
    "p_1 = X_test.total_vaccinations.to_list()\n",
    "p_2 = X_test.new_deaths.to_list()\n",
    "# For utilizado para calcular os valores de previsão\n",
    "for i in range(len(p_1)):\n",
    "    y_pred_m.append(f(p_1[i], p_2[i]))\n",
    "\n",
    "# Plotando o gráfico relacionando os dados\n",
    "plt.figure(figsize = (8,8))\n",
    "x_reta = [min(Y_test), max(Y_test)]\n",
    "plt.scatter(Y_test, y_pred_m, label = 'Relação entre os dados')\n",
    "plt.plot(x_reta, x_reta, color = 'r', label = 'Linha de tendência')\n",
    "plt.title(\"Relação entre resultados obtidos e dados reais\", fontsize=16)\n",
    "plt.xlabel(\"Dados reais\", fontsize=14)\n",
    "plt.ylabel(\"Resultados obtidos com a regressão múltipla\", fontsize=14)\n",
    "plt.legend()\n",
    "plt.show()"
   ]
  },
  {
   "cell_type": "markdown",
   "metadata": {},
   "source": [
    "De acordo com os resultados desse gráfico é possível analisar que a modelagem realizada condiz com a realidade dos dados, mesmo que possuindo desvios."
   ]
  },
  {
   "cell_type": "markdown",
   "metadata": {},
   "source": [
    "Gráfico de normalidade de resíduos:"
   ]
  },
  {
   "cell_type": "code",
   "execution_count": 38,
   "metadata": {},
   "outputs": [
    {
     "data": {
      "image/png": "[encoded data removed]",
      "text/plain": [
       "<Figure size 432x288 with 1 Axes>"
      ]
     },
     "metadata": {
      "needs_background": "light"
     },
     "output_type": "display_data"
    }
   ],
   "source": [
    "# Plotando o gráfico de resíduos\n",
    "plt.figure()\n",
    "probplot(results2.resid, dist = 'norm', plot = plt);"
   ]
  },
  {
   "cell_type": "markdown",
   "metadata": {},
   "source": [
    "Analisando o gráfico, é possível ver que os resíduos gerados pelo modelo possuem uma distribuição que se aproxima da normal, assim como era esperado."
   ]
  },
  {
   "cell_type": "markdown",
   "metadata": {},
   "source": [
    "<div id=\"tree\"></div>\n",
    "\n",
    "### Regression Tree"
   ]
  },
  {
   "cell_type": "markdown",
   "metadata": {},
   "source": [
    "Aplicação da Regression Tree para a base de treinamento e plotagem dos resultados para a base de teste:"
   ]
  },
  {
   "cell_type": "code",
   "execution_count": 39,
   "metadata": {},
   "outputs": [
    {
     "data": {
      "image/png": "[encoded data removed]",
      "text/plain": [
       "<Figure size 576x576 with 1 Axes>"
      ]
     },
     "metadata": {
      "needs_background": "light"
     },
     "output_type": "display_data"
    }
   ],
   "source": [
    "# Aplicando a função obtida através da biblioteca\n",
    "regressor_t = DecisionTreeRegressor()\n",
    "regressor_t.fit(X_train, Y_train)\n",
    "\n",
    "# Prevendo um novo resultado\n",
    "y_pred_t = regressor_t.predict(X_test)\n",
    "\n",
    "# Visualisando a Regression Tree\n",
    "plt.figure(figsize = (8,8))\n",
    "plt.scatter(Y_test, y_pred_t, color = 'blue', label = 'Relação entre os dados')\n",
    "plt.plot(x_reta, x_reta, color = 'r', label = 'Linha de tendência')\n",
    "plt.title(\"Relação entre resultados obtidos e dados reais\", fontsize=16)\n",
    "plt.xlabel(\"Dados reais\", fontsize=14)\n",
    "plt.ylabel(\"Resultados obtidos com a Regression Tree\", fontsize=14)\n",
    "plt.legend()\n",
    "plt.show()"
   ]
  },
  {
   "cell_type": "markdown",
   "metadata": {},
   "source": [
    "O método de regressão retratado nesse gráfico aparenta ser mais válido para predição do que o modelo anterior."
   ]
  },
  {
   "cell_type": "markdown",
   "metadata": {},
   "source": [
    "<div id=\"forest\"></div>\n",
    "\n",
    "### Random Forest Regression"
   ]
  },
  {
   "cell_type": "markdown",
   "metadata": {},
   "source": [
    "Aplicação da Random Forest Regression para a base de treinamento e plotagem dos resultados para a base de teste:"
   ]
  },
  {
   "cell_type": "code",
   "execution_count": 40,
   "metadata": {},
   "outputs": [
    {
     "data": {
      "image/png": "[encoded data removed]",
      "text/plain": [
       "<Figure size 576x576 with 1 Axes>"
      ]
     },
     "metadata": {
      "needs_background": "light"
     },
     "output_type": "display_data"
    }
   ],
   "source": [
    "# Aplicando a função obtida através da biblioteca\n",
    "regressor_f = RandomForestRegressor(n_estimators = 100)\n",
    "regressor_f.fit(X_train, Y_train)\n",
    "\n",
    "# Prevendo um novo resultado\n",
    "y_pred_f = regressor_f.predict(X_test)\n",
    "\n",
    "# Visualisando a Random Forest Regression\n",
    "plt.figure(figsize = (8,8))\n",
    "plt.scatter(Y_test, y_pred_f, color = 'blue')\n",
    "plt.plot(x_reta, x_reta, color = 'r', label = 'Linha de tendência')\n",
    "plt.title(\"Relação entre resultados obtidos e dados reais\", fontsize=16)\n",
    "plt.xlabel(\"Dados reais\", fontsize=14)\n",
    "plt.ylabel(\"Resultados obtidos com a Random Forest Regression\", fontsize=14)\n",
    "plt.legend()\n",
    "plt.show()"
   ]
  },
  {
   "cell_type": "markdown",
   "id": "e3bd8a42",
   "metadata": {},
   "source": [
    "O método de regressão retratado nesse gráfico aparenta ser válido para predição do nosso modelo."
   ]
  },
  {
   "cell_type": "markdown",
   "id": "ed4a2cb9",
   "metadata": {},
   "source": [
    "<div id=\"homocedasticidade\"></div>\n",
    "\n",
    "### Análise de homocedasticidade"
   ]
  },
  {
   "cell_type": "markdown",
   "metadata": {},
   "source": [
    "Em seguida será realizado o cálculo dos valores previstos para a base de teste e a plotagem dos gráficos de análise de homocedasticidade, que mostram a dispersão dos resíduos em função da variável independente."
   ]
  },
  {
   "cell_type": "code",
   "execution_count": 41,
   "id": "e862ab07",
   "metadata": {},
   "outputs": [
    {
     "data": {
      "image/png": "[encoded data removed]",
      "text/plain": [
       "<Figure size 1440x360 with 3 Axes>"
      ]
     },
     "metadata": {
      "needs_background": "light"
     },
     "output_type": "display_data"
    }
   ],
   "source": [
    "# Resíduos do modelo Regressão Múltipla\n",
    "residuos_m = []\n",
    "Y_test_list = Y_test.to_list()\n",
    "\n",
    "# For utilizado para percorrer a lista de resultados e calcular os resíduos de cada dado\n",
    "for i in range(len(Y_test)):\n",
    "    r = Y_test_list[i] - y_pred_m[i]\n",
    "    residuos_m.append(r)\n",
    "\n",
    "# Resíduos do modelo Regression Tree\n",
    "residuos_t = []\n",
    "\n",
    "# For utilizado para percorrer a lista de resultados e calcular os resíduos de cada dado\n",
    "for i in range(len(y_pred_t)):\n",
    "    r = y_pred_t[i] - Y_test_list[i]\n",
    "    residuos_t.append(r)\n",
    "\n",
    "# Resíduos do modelo Random Forest Tree\n",
    "residuos_f = []\n",
    "\n",
    "# For utilizado para percorrer a lista de resultados e calcular os resíduos de cada dado\n",
    "for i in range(len(y_pred_f)):\n",
    "    r = y_pred_f[i] - Y_test_list[i]\n",
    "    residuos_f.append(r)\n",
    "\n",
    "# Parâmetros para a linha de tendência\n",
    "x_reta = [0, 110000]\n",
    "y_reta = [0, 0]\n",
    "\n",
    "# Plotando os três gráficos de análise de homocedasticidade\n",
    "plt.figure(figsize = (20, 5))\n",
    "\n",
    "plt.subplot(1, 3, 1)\n",
    "plt.scatter(Y_test_list, residuos_m, label = 'Relação entre os dados')\n",
    "plt.plot(x_reta, y_reta, color = 'r', label = 'Linha de tendência')\n",
    "plt.title(\"Análise de homocedasticidade - modelo 1\", fontsize=16)\n",
    "plt.xlabel(\"Variável Independente\", fontsize=14)\n",
    "plt.ylabel(\"Resíduos\", fontsize=14)\n",
    "plt.ylim([-75000,75000])\n",
    "plt.legend()\n",
    "\n",
    "plt.subplot(1, 3, 2)\n",
    "plt.scatter(Y_test_list, residuos_t, label = 'Relação entre os dados')\n",
    "plt.plot(x_reta, y_reta, color = 'r', label = 'Linha de tendência')\n",
    "plt.title(\"Análise de homocedasticidade - modelo 2\", fontsize=16)\n",
    "plt.xlabel(\"Variável Independente\", fontsize=14)\n",
    "plt.ylabel(\"Resíduos\", fontsize=14)\n",
    "plt.ylim([-75000,75000])\n",
    "plt.legend()\n",
    "\n",
    "plt.subplot(1, 3, 3)\n",
    "plt.scatter(Y_test_list, residuos_f, label = 'Relação entre os dados')\n",
    "plt.plot(x_reta, y_reta, color = 'r', label = 'Linha de tendência')\n",
    "plt.title(\"Análise de homocedasticidade - modelo 3\", fontsize=16)\n",
    "plt.xlabel(\"Variável Independente\", fontsize=14)\n",
    "plt.ylabel(\"Resíduos\", fontsize=14)\n",
    "plt.ylim([-75000,75000])\n",
    "plt.legend()\n",
    "plt.show()"
   ]
  },
  {
   "cell_type": "markdown",
   "id": "97795a5b",
   "metadata": {},
   "source": [
    "Analisando os gráficos homocedasticidade é possível notar que o modelo de regressão múltipla apresenta uma margem de erro maior para seus resíduos quando comparado com os outros modelos.\n",
    "\n",
    "- <em><b>  Regressão Múltipla: </b></em> Não Indepedência\n",
    "- <em><b>  Regression Tree: </b></em> Ideal\n",
    "- <em><b>  Random Forest Regression: </b></em> Ideal"
   ]
  },
  {
   "cell_type": "markdown",
   "metadata": {},
   "source": [
    "<div id=\"validacao\"></div>\n",
    "\n",
    "___\n",
    "## Validação Cruzada"
   ]
  },
  {
   "cell_type": "markdown",
   "metadata": {},
   "source": [
    "Processo de Validação Cruzada utilizando 10 ciclos, ou seja, \"rodando\" o código 10 vezes usando diferentes bases de teste e treinamento, e cálculos da performance média e desvio padrão das duas medidas R2 e RMS para cada um dos modelos aplicados para a base de teste:"
   ]
  },
  {
   "cell_type": "markdown",
   "id": "8c696765",
   "metadata": {},
   "source": [
    "A Validação Cruzada é utilizada para identificar o melhor método de predição a ser escolhido para a base de dados do projeto, visto que compara diversas vezes a eficiência de cada um dos três modelos a partir de dados diferentes a cada vez."
   ]
  },
  {
   "cell_type": "code",
   "execution_count": 42,
   "metadata": {},
   "outputs": [
    {
     "data": {
      "text/html": [
       "<div>\n",
       "<style scoped>\n",
       "    .dataframe tbody tr th:only-of-type {\n",
       "        vertical-align: middle;\n",
       "    }\n",
       "\n",
       "    .dataframe tbody tr th {\n",
       "        vertical-align: top;\n",
       "    }\n",
       "\n",
       "    .dataframe thead th {\n",
       "        text-align: right;\n",
       "    }\n",
       "</style>\n",
       "<table border=\"1\" class=\"dataframe\">\n",
       "  <thead>\n",
       "    <tr style=\"text-align: right;\">\n",
       "      <th></th>\n",
       "      <th>Média de R2</th>\n",
       "      <th>Desvio Padrão de R2</th>\n",
       "      <th>Média de RMS</th>\n",
       "      <th>Desvio Padrão de RMS</th>\n",
       "    </tr>\n",
       "  </thead>\n",
       "  <tbody>\n",
       "    <tr>\n",
       "      <th>Multiple regression</th>\n",
       "      <td>0.782096</td>\n",
       "      <td>0.047123</td>\n",
       "      <td>12455.160571</td>\n",
       "      <td>1451.930597</td>\n",
       "    </tr>\n",
       "    <tr>\n",
       "      <th>Regression Tree</th>\n",
       "      <td>0.811475</td>\n",
       "      <td>0.079443</td>\n",
       "      <td>11326.349292</td>\n",
       "      <td>2270.202338</td>\n",
       "    </tr>\n",
       "    <tr>\n",
       "      <th>Forest Regression</th>\n",
       "      <td>0.875221</td>\n",
       "      <td>0.043522</td>\n",
       "      <td>9331.631207</td>\n",
       "      <td>1550.979677</td>\n",
       "    </tr>\n",
       "  </tbody>\n",
       "</table>\n",
       "</div>"
      ],
      "text/plain": [
       "                     Média de R2  Desvio Padrão de R2  Média de RMS  \\\n",
       "Multiple regression     0.782096             0.047123  12455.160571   \n",
       "Regression Tree         0.811475             0.079443  11326.349292   \n",
       "Forest Regression       0.875221             0.043522   9331.631207   \n",
       "\n",
       "                     Desvio Padrão de RMS  \n",
       "Multiple regression           1451.930597  \n",
       "Regression Tree               2270.202338  \n",
       "Forest Regression             1550.979677  "
      ]
     },
     "execution_count": 42,
     "metadata": {},
     "output_type": "execute_result"
    }
   ],
   "source": [
    "# Criando as listas que armazenarão os dados de R2 e RMS\n",
    "valores_r2_m = []\n",
    "valores_rms_m = []\n",
    "valores_r2_t = []\n",
    "valores_rms_t = []\n",
    "valores_r2_f = []\n",
    "valores_rms_f = []\n",
    "\n",
    "for i in range(10):\n",
    "    # Gera lista de treino e teste, que será renovada a cada ciclo\n",
    "    X_train1, X_test, Y_train, Y_test = train_test_split(X, Y, test_size = 0.2, random_state = i)\n",
    "    X3 = X_train1[['total_vaccinations', 'new_deaths']]\n",
    "    Y_test_list = Y_test.to_list()\n",
    "    \n",
    "    # Regressão Múltipla\n",
    "\n",
    "    # Chamando a função\n",
    "    results3 = Regressão(X3,Y_train)\n",
    "    # Estabelecendo os parâmetros\n",
    "    beta0_hat = results3.params[0]  # const\n",
    "    beta1_hat = results3.params[1]  # total_vaccinations\n",
    "    beta2_hat = results3.params[2]  # new_deaths\n",
    "    y_pred_m1 = []\n",
    "    p_1 = X_test.total_vaccinations.to_list()\n",
    "    p_2 = X_test.new_deaths.to_list()\n",
    "    # For utilizado para calcular os valores de previsão\n",
    "    for i in range(len(p_1)):\n",
    "        y_pred_m1.append(beta0_hat + beta1_hat*p_1[i] + beta2_hat*p_2[i])\n",
    "    # Calculando e armazenando os valores de R2 e RMS em listas\n",
    "    e_m = mean_squared_error(Y_test_list, y_pred_m1, squared=False)\n",
    "    valores_rms_m.append(e_m)\n",
    "    r2_m = r2_score(Y_test_list, y_pred_m1)\n",
    "    valores_r2_m.append(r2_m)\n",
    "    \n",
    "    # Regression Tree\n",
    "\n",
    "    # Chamando a função\n",
    "    regressor_t = DecisionTreeRegressor()\n",
    "    regressor_t.fit(X_train1, Y_train)\n",
    "    # Prevendo um novo resultado\n",
    "    y_pred_t = regressor_t.predict(X_test)\n",
    "    # Calculando e armazenando os valores de R2 e RMS em listas\n",
    "    e_t = mean_squared_error(Y_test_list, y_pred_t, squared=False)\n",
    "    valores_rms_t.append(e_t)\n",
    "    r2_t = r2_score(Y_test_list, y_pred_t)\n",
    "    valores_r2_t.append(r2_t)\n",
    "\n",
    "    # Random Regression Forest\n",
    "\n",
    "    # Chamando a função\n",
    "    regressor_f = RandomForestRegressor(n_estimators = 100)\n",
    "    regressor_f.fit(X_train1, Y_train)\n",
    "    # Prevendo um novo resultado\n",
    "    y_pred_f = regressor_f.predict(X_test)\n",
    "    # Calculando e armazenando os valores de R2 e RMS em listas\n",
    "    e_f = mean_squared_error(Y_test_list, y_pred_f, squared=False)\n",
    "    valores_rms_f.append(e_f)\n",
    "    r2_f = r2_score(Y_test_list, y_pred_f)\n",
    "    valores_r2_f.append(r2_f)\n",
    "\n",
    "# Criando a tebela com os valores de R2 e de RMS para os três modelos\n",
    "R2_list_mean = [np.mean(valores_r2_m), np.mean(valores_r2_t), np.mean(valores_r2_f)]\n",
    "R2_list_std = [np.std(valores_r2_m), np.std(valores_r2_t), np.std(valores_r2_f)]\n",
    "RMS_list_mean = [np.mean(valores_rms_m), np.mean(valores_rms_t), np.mean(valores_rms_f)]\n",
    "RMS_list_std = [np.std(valores_rms_m), np.std(valores_rms_t), np.std(valores_rms_f)]\n",
    "df_vc = pd.DataFrame(R2_list_mean)\n",
    "df_vc.columns = ['Média de R2']\n",
    "df_vc.index = ['Multiple regression', 'Regression Tree', 'Forest Regression']\n",
    "df_vc['Desvio Padrão de R2'] = R2_list_std\n",
    "df_vc['Média de RMS'] = RMS_list_mean\n",
    "df_vc['Desvio Padrão de RMS'] = RMS_list_std\n",
    "df_vc"
   ]
  },
  {
   "cell_type": "markdown",
   "metadata": {},
   "source": [
    "<div id=\"conclusao\"></div>\n",
    "\n",
    "___\n",
    "## Conclusão"
   ]
  },
  {
   "cell_type": "markdown",
   "id": "a41d93e4",
   "metadata": {},
   "source": [
    "<div id=\"interpretacao\"></div>\n",
    "\n",
    "### Interpretações do modelo:"
   ]
  },
  {
   "cell_type": "markdown",
   "id": "b7bccae8",
   "metadata": {},
   "source": [
    "A partir dos modelos preditivos aplicados, percebe-se que o modelo \"Random Forest Regression\" teve um resultado mais satisfatório se comparado aos outros, tendo em vista que a média de R2 (<em><b>Coeficiente de determinação</em></b>) está mais próxima de 1, ou seja, seus valores estão mais próximos da base de dados real. Observe a fórmula do R2 a seguir:\n",
    "\n",
    "$$R^2 = 1 - \\frac{SS_{RES}}{SS_{TOT}}=1 - \\frac{\\sum_{i}^n(y_i-\\hat{y})^2}{\\sum_{i=1}^n(y_i-\\bar{y})^2}$$\n",
    "\n",
    "Pela fórmula, tem-se que a soma presente no numerador é o somatório do quadrado da diferença entre o valor real e o valor estimado de y e no denominador é o somatório do quadrado da diferença entre y real e sua média.\n",
    "\n",
    "Além de que o valor do RMS do terceiro modelo (<em><b>Root Mean Squared</em></b>) está menor, indicando que a média de seus erros, se comparada aos outros modelos preditivos está menor, o que mostra uma maior compatibilidade com a realidade. Observe a fórmula do RMS a seguir:\n",
    "\n",
    "$$RMS = {\\sqrt{\\frac{1}{n} \\sum_{i=1}^n(y_i-\\hat{y_i})^2}} $$\n",
    "\n",
    "Pela fórmula, tem-se que o RMS é dado pela raiz da média dos quadrados do erro de cada valor.\n",
    "\n",
    "Diante dos resultados apresentados, pode-se concluir que o modelo de Random Forest Regression mostrou-se ser o mais indicado para ajudar a responder a pergunta proposta pelo grupo, pois apresenta a maior média de R2 e a menor média de RMS para o processo de validação cruzada, entre os modelos utilizados no projeto, indicando uma melhor aproximação do modelo aos dados reais em relação aos demais métodos, e portanto, esse modelo possibilitaria uma possível previsão de número de novos casos diários se houvesse uma base de dados que apresente informações sobre as variáveis features usadas para a implementação do modelo escolhido."
   ]
  },
  {
   "cell_type": "markdown",
   "id": "cc3f6f69",
   "metadata": {},
   "source": [
    "<div id=\"melhorias\"></div>\n",
    "\n",
    "### Melhorias reais para implementações futuras:"
   ]
  },
  {
   "cell_type": "markdown",
   "id": "91994fc4",
   "metadata": {},
   "source": [
    "<div id=\"melhoria_base\"></div>\n",
    "\n",
    "#### Base de dados"
   ]
  },
  {
   "cell_type": "markdown",
   "id": "030ca0ad",
   "metadata": {},
   "source": [
    "Uma melhoria a ser levada em consideração e adicionada em futuras implementações é aumentar a base de dados, visto que a utilizada tem os dados atuais, que podem muito bem mudar conforme o tempo passe e mais pesquisas sejam feitas."
   ]
  },
  {
   "cell_type": "markdown",
   "id": "d450ad96",
   "metadata": {},
   "source": [
    "<div id=\"regularizacao\"></div>\n",
    "\n",
    "#### Regularização"
   ]
  },
  {
   "cell_type": "markdown",
   "id": "1aa71fdc",
   "metadata": {},
   "source": [
    "Para melhorar o modelo, poderia também ser utilizada a técnica de regularização que ajudaria a resolver o problema de over-fitting com maior eficiência.\n",
    "\n",
    "A técnica de regularização mantém todas as features, mas impõe uma restrição na magnitude dos coeficientes."
   ]
  },
  {
   "cell_type": "markdown",
   "id": "54a2a25d",
   "metadata": {},
   "source": [
    "<div id=\"outros_modelos\"></div>\n",
    "\n",
    "#### Outros modelos"
   ]
  },
  {
   "cell_type": "markdown",
   "id": "70f844f5",
   "metadata": {},
   "source": [
    "Por fim, para melhorar o projeto poderiam ser utilizados outros métodos de regressão, como por exemplo o Support Vector Regression, para comparar e avaliar se existe alguma opção melhor do que as já utilizadas.\n",
    "\n",
    "<center> <img src=\"imagens/support_vector_regression.png\" width=500> </center> \n",
    "<center> <em><i> Imagem de um \"Support Vector Regression\" disponível em: https://medium.com/swlh/support-vector-regression-explained-for-beginners-2a8d14ba6e5d </i></em> </center>"
   ]
  },
  {
   "cell_type": "markdown",
   "metadata": {},
   "source": [
    "<div id=\"referencias\"></div>\n",
    "\n",
    "___\n",
    "## Referências Bibliográficas"
   ]
  },
  {
   "cell_type": "markdown",
   "metadata": {},
   "source": [
    "- [Our World in Data](https://ourworldindata.org/covid-deaths)\n",
    "\n",
    "- [Data on COVID-19 (coronavirus) by Our World in Data](https://github.com/owid/covid-19-data/tree/master/public/data)\n",
    "\n",
    "- [Overfitting](https://medium.com/fintechexplained/the-problem-of-overfitting-and-how-to-resolve-it-1eb9456b1dfd)\n",
    "\n",
    "- [Regressão Múltipla](https://www.mathworks.com/help/stats/regress.html)\n",
    "\n",
    "- [Regression Tree](https://towardsdatascience.com/machine-learning-basics-decision-tree-regression-1d73ea003fda)\n",
    "\n",
    "- [Random Forest Regression](https://levelup.gitconnected.com/random-forest-regression-209c0f354c84)\n",
    "\n",
    "- [Support Vector Regression](https://medium.com/swlh/support-vector-regression-explained-for-beginners-2a8d14ba6e5d)"
   ]
  }
 ],
 "metadata": {
  "kernelspec": {
   "display_name": "Python 3",
   "language": "python",
   "name": "python3"
  },
  "language_info": {
   "codemirror_mode": {
    "name": "ipython",
    "version": 3
   },
   "file_extension": ".py",
   "mimetype": "text/x-python",
   "name": "python",
   "nbconvert_exporter": "python",
   "pygments_lexer": "ipython3",
   "version": "3.8.5"
  }
 },
 "nbformat": 4,
 "nbformat_minor": 5
}
